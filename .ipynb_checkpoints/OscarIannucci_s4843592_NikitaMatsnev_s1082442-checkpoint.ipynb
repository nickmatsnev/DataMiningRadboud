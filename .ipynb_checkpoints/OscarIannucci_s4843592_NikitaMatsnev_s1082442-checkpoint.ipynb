{
 "cells": [
  {
   "cell_type": "markdown",
   "metadata": {},
   "source": [
    "Before you turn this problem in, make sure everything runs as expected. First, **restart the kernel** (in the menubar, select Kernel$\\rightarrow$Restart) and then **run all cells** (in the menubar, select Cell$\\rightarrow$Run All).\n",
    "\n",
    "Make sure you fill in any place that says `YOUR CODE HERE` or \"YOUR ANSWER HERE\", as well as your name and collaborators below:"
   ]
  },
  {
   "cell_type": "code",
   "execution_count": 1,
   "metadata": {},
   "outputs": [],
   "source": [
    "NAME = \"Oscar Iannucci\"\n",
    "STUDENT_NUMBER = \"s4843592\"\n",
    "COLLABORATOR_NAME = \"Nikita Matsnev\"\n",
    "COLLABORATOR_STUDENT_NUMBER = \"s108242\""
   ]
  },
  {
   "cell_type": "markdown",
   "metadata": {},
   "source": [
    "---"
   ]
  },
  {
   "cell_type": "markdown",
   "metadata": {},
   "source": [
    "## **Important:** When handing in your homework:\n",
    "+ Hand in the notebook (and nothing else) **named as follows**: StudentName1_snumber_StudentName2_snumber.ipynb\n",
    "+ Provide clear and complete answers to the questions below under a separate header (not hidden somewhere in your source code), and make sure to explain your answers / motivate your choices. Add Markdown cells where necessary.\n",
    "+ Source code, output graphs, derivations, etc., should be included in the notebook.\n",
    "+ Hand-in: upload to Brightspace.\n",
    "+ Include name, student number, assignment (especially in filenames)!\n",
    "+ When working in pairs only one of you should upload the assignment, and report the name of your partner in your filename.\n",
    "+ Use the Brightspace discussion board or email the student assistants for questions on how to complete the exercises.\n",
    "+ If you find mistakes/have suggestions/would like to complain about the assigment material itself, please email me [Roel] at `Roel.Bouman@ru.nl`\n",
    "+ Do not add/remove any cells in the notebook, else this might break the auto-grading system. **An invalid notebook will mean a severe reduction in your grade!**\n",
    "+ Only type your answers in those places where they are asked.\n",
    "+ Remove any \"raise NotImplementedError()\" statements in the cells you answered."
   ]
  },
  {
   "cell_type": "markdown",
   "metadata": {
    "deletable": false,
    "editable": false,
    "nbgrader": {
     "cell_type": "markdown",
     "checksum": "73a1def63993c1ba37acf90d04fde6a0",
     "grade": false,
     "grade_id": "cell-7489e41b2dec7e73",
     "locked": true,
     "schema_version": 3,
     "solution": false,
     "task": false
    }
   },
   "source": [
    "# Assignment 1\n",
    "\n",
    "## Objective of this assignment\n",
    "The objective is to get acquainted with the Python language, with emphasis on its scientific and numerical extensions, how data can be imported from other data sources, the linear algebra basics that are needed for this course, visualization using principal component analysis (PCA) and the concept of similarity. Upon completing this exercise it is expected that you:\n",
    "\n",
    "- Understand how data can be represented as vectors and matrices in numerical Python (NumPy).\n",
    "- Can apply and interpret principal component analysis (PCA) for data visualization.\n",
    "- Understand the various measures of similarity such as Jaccard and Cosine similarity and apply similarity measures to query for similar observations.\n",
    "\n",
    "\n",
    "## Advised Reading and Exercise Material\n",
    "**The following on-line materials are recommended:**\n",
    "\n",
    "- <http://docs.python.org/tutorial> - Introduction into Python environment, syntax and data structures. Recommended reading - sections 1, 2, 3, 4 and 5.\n",
    "- <https://docs.scipy.org/doc/numpy/user/quickstart.html> - Tutorial introducing the scientific computing in Python, array and matrix operations, indexing and slicing matrices.\n",
    "- <https://docs.scipy.org/doc/numpy/user/numpy-for-matlab-users.html> - Useful reference to scientific computing in Python if you have previous experience with MATLAB programming.\n",
    "- <https://www.datacamp.com/courses/intro-to-python-for-data-science> - Simple introduction to Data Science using Python.\n",
    "- <https://matplotlib.org/> - Documentation and examples related to matplotlib module, which we shall use extensively through the course to visualize data and results.\n",
    "- Pang-Ning Tan, Michael Steinbach, and Vipin Kumar, **Introduction to Data Mining**, sections 2.1-2.3 + (A) + B.1\n",
    "- Pang-Ning Tan, Michael Steinbach, and Vipin Kumar, **Introduction to Data Mining**, sections 2.4 + 3.1-3.2 + C.1-C.2"
   ]
  },
  {
   "cell_type": "markdown",
   "metadata": {
    "deletable": false,
    "editable": false,
    "nbgrader": {
     "cell_type": "markdown",
     "checksum": "571e5f9e11cf911be8bed7c0336052b6",
     "grade": false,
     "grade_id": "cell-776460a4164921ee",
     "locked": true,
     "schema_version": 3,
     "solution": false,
     "task": false
    }
   },
   "source": [
    "## 1.1 Python and Linear Algebra basics\n",
    "\n",
    "**For this course we advise(and require you!) to only use NumPy ndarrays to represent vectors and matrices. The numpy.matrix data type, although intuitive, is mostly deprecated and uses operators for multiplication differently. This means that you can't perform matrix multiplications symbollically, and instead will have to use functions from the NumPy library!** \n",
    "\n",
    "**1.1.1**a) (0.2 points) Generate (and print) the following vectors using functions from the *NumPy* package in Python: \n",
    "*Note: You do not have to print column vectors as columns!*\n",
    "\n",
    "\\begin{equation}\n",
    "     \\textbf{x} = \\begin{pmatrix} \n",
    "         6 \\\\\n",
    "         7 \\\\\n",
    "         8 \\\\\n",
    "         9 \\\\\n",
    "         10 \\\\\n",
    "         11 \\\\\n",
    "         12\n",
    "       \\end{pmatrix}\n",
    "     \\textbf{y} = \\begin{pmatrix} \n",
    "         3 \\\\\n",
    "         7 \\\\\n",
    "         11 \\\\\n",
    "         15 \\\\\n",
    "         19 \\\\\n",
    "         23 \\\\\n",
    "         27\n",
    "       \\end{pmatrix}\n",
    "     \\textbf{w} = \\begin{pmatrix} \n",
    "         1 \\\\\n",
    "         1 \\\\\n",
    "         0 \\\\\n",
    "         0.5 \\\\\n",
    "         1 \\\\\n",
    "         1.5 \\\\\n",
    "         2 \\\\\n",
    "         0 \\\\\n",
    "         0 \n",
    "       \\end{pmatrix}\n",
    "     \\textbf{s} = \\begin{pmatrix}\n",
    "         100 \\\\\n",
    "         98.8 \\\\\n",
    "         97.6 \\\\\n",
    "         96.4 \\\\\n",
    "         95.2\n",
    "       \\end{pmatrix} \n",
    "     \\textbf{z} = \\begin{pmatrix}\n",
    "         0.7 \\\\\n",
    "         1.0 \\\\\n",
    "         1.3 \\\\\n",
    "         1.6 \\\\\n",
    "         1.9 \\\\\n",
    "         2.2 \\\\\n",
    "         2.5 \\\\\n",
    "         2.8\n",
    "       \\end{pmatrix}\n",
    "  \\end{equation}\n",
    "\n"
   ]
  },
  {
   "cell_type": "code",
   "execution_count": 2,
   "metadata": {
    "deletable": false,
    "editable": false,
    "nbgrader": {
     "cell_type": "code",
     "checksum": "53da47fbb0465bee0188a3d1d6013213",
     "grade": false,
     "grade_id": "cell-43e50836d2c76c96",
     "locked": true,
     "schema_version": 3,
     "solution": false,
     "task": false
    }
   },
   "outputs": [],
   "source": [
    "#Import NumPy\n",
    "import numpy as np\n",
    "#You'll have to manually import libraries in the future!"
   ]
  },
  {
   "cell_type": "code",
   "execution_count": 3,
   "metadata": {
    "deletable": false,
    "nbgrader": {
     "cell_type": "code",
     "checksum": "9257cf0c57b2092bc4d90728ea9781a9",
     "grade": false,
     "grade_id": "cell-78c907215aa8b085",
     "locked": false,
     "schema_version": 3,
     "solution": true,
     "task": false
    }
   },
   "outputs": [
    {
     "name": "stdout",
     "output_type": "stream",
     "text": [
      "[ 6  7  8  9 10 11 12]\n",
      "[ 3  7 11 15 19 23 27]\n",
      "[1.  1.  0.5 1.  1.5 2.  0.  0. ]\n",
      "[100.   98.8  97.6  96.4  95.2]\n",
      "[0.7 1.  1.3 1.6 1.9 2.2 2.5 2.8]\n"
     ]
    }
   ],
   "source": [
    "##Generate the vectors in  using Python and NumPy \n",
    "\n",
    "import numpy as np\n",
    "x = np.array([6,7,8,9,10,11,12])\n",
    "y = np.array([3,7,11,15,19,23,27])\n",
    "w = np.array([1,1.0,0.5,1,1.5,2,0,0])\n",
    "s = np.array([100,98.8,97.6,96.4,95.2])\n",
    "z = np.array([0.7,1.0,1.3,1.6,1.9,2.2,2.5,2.8])\n",
    "\n",
    "\n",
    "print(x)\n",
    "print(y)\n",
    "print(w)\n",
    "print(s)\n",
    "print(z)"
   ]
  },
  {
   "cell_type": "code",
   "execution_count": 4,
   "metadata": {
    "deletable": false,
    "editable": false,
    "nbgrader": {
     "cell_type": "code",
     "checksum": "dfd2544541c4f4bec9c22f5ff97a55d4",
     "grade": true,
     "grade_id": "cell-6ec72c394fc2b2d1",
     "locked": true,
     "points": 20,
     "schema_version": 3,
     "solution": false,
     "task": false
    }
   },
   "outputs": [
    {
     "data": {
      "text/plain": [
       "'DO NOT MODIFY THIS CELL'"
      ]
     },
     "execution_count": 4,
     "metadata": {},
     "output_type": "execute_result"
    }
   ],
   "source": [
    "\"\"\"Checks whether 1.1.1.a output is correct\"\"\"\n",
    "\"\"\"DO NOT MODIFY THIS CELL\"\"\""
   ]
  },
  {
   "cell_type": "markdown",
   "metadata": {
    "deletable": false,
    "editable": false,
    "nbgrader": {
     "cell_type": "markdown",
     "checksum": "ea4a13ad02b2e30189a088d19b06ce9a",
     "grade": false,
     "grade_id": "cell-756f8744aee6bc9a",
     "locked": true,
     "schema_version": 3,
     "solution": false,
     "task": false
    }
   },
   "source": [
    "Then compute the following operations:\n",
    "> b) (0.1 points) **v** = 3**x** + **y**"
   ]
  },
  {
   "cell_type": "code",
   "execution_count": 5,
   "metadata": {
    "deletable": false,
    "nbgrader": {
     "cell_type": "code",
     "checksum": "b88848c87e8872c1b9cfb5cd78f96555",
     "grade": false,
     "grade_id": "cell-f20bb3a03a0446a0",
     "locked": false,
     "schema_version": 3,
     "solution": true,
     "task": false
    }
   },
   "outputs": [
    {
     "name": "stdout",
     "output_type": "stream",
     "text": [
      "[21 28 35 42 49 56 63]\n"
     ]
    }
   ],
   "source": [
    "##Answer to question 1.1.1a\n",
    "\n",
    "v = 3*x+y\n",
    "\n",
    "print(v)"
   ]
  },
  {
   "cell_type": "code",
   "execution_count": 6,
   "metadata": {
    "deletable": false,
    "editable": false,
    "nbgrader": {
     "cell_type": "code",
     "checksum": "5fafea036bf83d349610254b523f2f8b",
     "grade": true,
     "grade_id": "cell-d5ee2ea59ea185aa",
     "locked": true,
     "points": 10,
     "schema_version": 3,
     "solution": false,
     "task": false
    }
   },
   "outputs": [
    {
     "data": {
      "text/plain": [
       "'DO NOT MODIFY THIS CELL'"
      ]
     },
     "execution_count": 6,
     "metadata": {},
     "output_type": "execute_result"
    }
   ],
   "source": [
    "\"\"\"Checks whether 1.1.1.b output is correct\"\"\"\n",
    "\"\"\"DO NOT MODIFY THIS CELL\"\"\""
   ]
  },
  {
   "cell_type": "markdown",
   "metadata": {
    "deletable": false,
    "editable": false,
    "nbgrader": {
     "cell_type": "markdown",
     "checksum": "b3f5eb75307c835827872d18efdbb953",
     "grade": false,
     "grade_id": "cell-63f5121257148bd9",
     "locked": true,
     "schema_version": 3,
     "solution": false,
     "task": false
    }
   },
   "source": [
    "> c) (0.1 points) Compute the dot product between **x** and **y** and name it **q**\n"
   ]
  },
  {
   "cell_type": "code",
   "execution_count": 7,
   "metadata": {
    "deletable": false,
    "nbgrader": {
     "cell_type": "code",
     "checksum": "71b3d4733e0015e3b3a795006681a3b1",
     "grade": false,
     "grade_id": "cell-202cb8761976ad23",
     "locked": false,
     "schema_version": 3,
     "solution": true,
     "task": false
    }
   },
   "outputs": [
    {
     "name": "stdout",
     "output_type": "stream",
     "text": [
      "1057\n"
     ]
    }
   ],
   "source": [
    "##Answer to question 1.1.1c\n",
    "\n",
    "import numpy as np\n",
    "q = np.dot(x,y)\n",
    "\n",
    "print(q)"
   ]
  },
  {
   "cell_type": "code",
   "execution_count": 8,
   "metadata": {
    "deletable": false,
    "editable": false,
    "nbgrader": {
     "cell_type": "code",
     "checksum": "a650514ca20b721ae7be70d7ff15a173",
     "grade": true,
     "grade_id": "cell-20f77d2a55010304",
     "locked": true,
     "points": 10,
     "schema_version": 3,
     "solution": false,
     "task": false
    }
   },
   "outputs": [
    {
     "data": {
      "text/plain": [
       "'DO NOT MODIFY THIS CELL'"
      ]
     },
     "execution_count": 8,
     "metadata": {},
     "output_type": "execute_result"
    }
   ],
   "source": [
    "\"\"\"Checks whether 1.1.1.c output is correct\"\"\"\n",
    "\"\"\"DO NOT MODIFY THIS CELL\"\"\""
   ]
  },
  {
   "cell_type": "markdown",
   "metadata": {
    "deletable": false,
    "editable": false,
    "nbgrader": {
     "cell_type": "markdown",
     "checksum": "b1035ae43b403a84cc9d5c5a6e0f88aa",
     "grade": false,
     "grade_id": "cell-0521de24ccf84774",
     "locked": true,
     "schema_version": 3,
     "solution": false,
     "task": false
    }
   },
   "source": [
    "> d) (0.1 points) **t** = $\\pi$ * (**s** + 4) (element wise multiplication)"
   ]
  },
  {
   "cell_type": "code",
   "execution_count": 9,
   "metadata": {
    "deletable": false,
    "nbgrader": {
     "cell_type": "code",
     "checksum": "1308c34c798bcc0c28f5c786248125f1",
     "grade": false,
     "grade_id": "cell-a315df9498c0c934",
     "locked": false,
     "schema_version": 3,
     "solution": true,
     "task": false
    }
   },
   "outputs": [
    {
     "name": "stdout",
     "output_type": "stream",
     "text": [
      "[326.72563597 322.95572479 319.1858136  315.41590242 311.64599124]\n"
     ]
    }
   ],
   "source": [
    "##Answer to question 1.1.1d\n",
    "\n",
    "import numpy as np\n",
    "t = np.pi*(s + 4)\n",
    "print(t)"
   ]
  },
  {
   "cell_type": "code",
   "execution_count": 10,
   "metadata": {
    "deletable": false,
    "editable": false,
    "nbgrader": {
     "cell_type": "code",
     "checksum": "fb8cbdb4f13b35f56e6465f8eb7ac5f0",
     "grade": true,
     "grade_id": "cell-56542f85c765f075",
     "locked": true,
     "points": 10,
     "schema_version": 3,
     "solution": false,
     "task": false
    }
   },
   "outputs": [
    {
     "data": {
      "text/plain": [
       "'DO NOT MODIFY THIS CELL'"
      ]
     },
     "execution_count": 10,
     "metadata": {},
     "output_type": "execute_result"
    }
   ],
   "source": [
    "\"\"\"Checks whether 1.1.1.d output is correct\"\"\"\n",
    "\"\"\"DO NOT MODIFY THIS CELL\"\"\""
   ]
  },
  {
   "cell_type": "markdown",
   "metadata": {
    "deletable": false,
    "editable": false,
    "nbgrader": {
     "cell_type": "markdown",
     "checksum": "b9cf185259f081bc03f79424d118354c",
     "grade": false,
     "grade_id": "cell-5d699e4c877563d1",
     "locked": true,
     "schema_version": 3,
     "solution": false,
     "task": false
    }
   },
   "source": [
    "> e) (0.1 points) **f** = **z** - **1**"
   ]
  },
  {
   "cell_type": "code",
   "execution_count": 11,
   "metadata": {
    "deletable": false,
    "nbgrader": {
     "cell_type": "code",
     "checksum": "1e210254770de1c0c977562e3cf137ae",
     "grade": false,
     "grade_id": "cell-a227d11e3e0d7f9b",
     "locked": false,
     "schema_version": 3,
     "solution": true,
     "task": false
    }
   },
   "outputs": [
    {
     "name": "stdout",
     "output_type": "stream",
     "text": [
      "[-0.3  0.   0.3  0.6  0.9  1.2  1.5  1.8]\n"
     ]
    }
   ],
   "source": [
    "##Answer to question 1.1.1e\n",
    "\n",
    "f = z - 1\n",
    "\n",
    "\n",
    "print(f)"
   ]
  },
  {
   "cell_type": "code",
   "execution_count": 12,
   "metadata": {
    "deletable": false,
    "editable": false,
    "nbgrader": {
     "cell_type": "code",
     "checksum": "46e819c3ece3d766c6cec21a781d6f95",
     "grade": true,
     "grade_id": "cell-2410f24eebc43c95",
     "locked": true,
     "points": 10,
     "schema_version": 3,
     "solution": false,
     "task": false
    }
   },
   "outputs": [
    {
     "data": {
      "text/plain": [
       "'DO NOT MODIFY THIS CELL'"
      ]
     },
     "execution_count": 12,
     "metadata": {},
     "output_type": "execute_result"
    }
   ],
   "source": [
    "\"\"\"Checks whether 1.1.1.e output is correct\"\"\"\n",
    "\"\"\"DO NOT MODIFY THIS CELL\"\"\""
   ]
  },
  {
   "cell_type": "markdown",
   "metadata": {
    "deletable": false,
    "editable": false,
    "nbgrader": {
     "cell_type": "markdown",
     "checksum": "09ddbd278ee0f1396549b3b9e24179ae",
     "grade": false,
     "grade_id": "cell-6ad6cf0b9eb1b509",
     "locked": true,
     "schema_version": 3,
     "solution": false,
     "task": false
    }
   },
   "source": [
    "> f) (0.1 points) replace some values of x, such that the last three values in the vector are 4, assign the result to a new variable called **h**"
   ]
  },
  {
   "cell_type": "code",
   "execution_count": 13,
   "metadata": {
    "deletable": false,
    "nbgrader": {
     "cell_type": "code",
     "checksum": "5ebd56e4ac04d6af8288ffeb3f5c9732",
     "grade": false,
     "grade_id": "cell-4953e949d6d08a1b",
     "locked": false,
     "schema_version": 3,
     "solution": true,
     "task": false
    }
   },
   "outputs": [
    {
     "name": "stdout",
     "output_type": "stream",
     "text": [
      "[6 7 8 9 4 4 4]\n"
     ]
    }
   ],
   "source": [
    "##Answer to question 1.1.1f\n",
    "\n",
    "import numpy as np\n",
    "h = x - np.array([0,0,0,0,6,7,8])\n",
    "\n",
    "print(h)"
   ]
  },
  {
   "cell_type": "code",
   "execution_count": 14,
   "metadata": {
    "deletable": false,
    "editable": false,
    "nbgrader": {
     "cell_type": "code",
     "checksum": "f93f806ad1c043a18026d38673e56a61",
     "grade": true,
     "grade_id": "cell-9b64fe22d508ee45",
     "locked": true,
     "points": 10,
     "schema_version": 3,
     "solution": false,
     "task": false
    }
   },
   "outputs": [
    {
     "data": {
      "text/plain": [
       "'DO NOT MODIFY THIS CELL'"
      ]
     },
     "execution_count": 14,
     "metadata": {},
     "output_type": "execute_result"
    }
   ],
   "source": [
    "\"\"\"Checks whether 1.1.1.f output is correct\"\"\"\n",
    "\"\"\"DO NOT MODIFY THIS CELL\"\"\""
   ]
  },
  {
   "cell_type": "markdown",
   "metadata": {
    "deletable": false,
    "editable": false,
    "nbgrader": {
     "cell_type": "markdown",
     "checksum": "e15a21af092ab99e0d6ac1ecada7bc65",
     "grade": false,
     "grade_id": "cell-965404ad05408d9c",
     "locked": true,
     "schema_version": 3,
     "solution": false,
     "task": false
    }
   },
   "source": [
    "> g) (0.1 points) **r** = 2**w** - 5"
   ]
  },
  {
   "cell_type": "code",
   "execution_count": 15,
   "metadata": {
    "deletable": false,
    "nbgrader": {
     "cell_type": "code",
     "checksum": "66261f61abb3d2c294010411ad2e81bd",
     "grade": false,
     "grade_id": "cell-c82d1f00a5c4ab00",
     "locked": false,
     "schema_version": 3,
     "solution": true,
     "task": false
    }
   },
   "outputs": [
    {
     "name": "stdout",
     "output_type": "stream",
     "text": [
      "[-3. -3. -4. -3. -2. -1. -5. -5.]\n"
     ]
    }
   ],
   "source": [
    "##Answer to question 1.1.1g\n",
    "\n",
    "import numpy as np\n",
    "r = np.dot(w, 2) - 5\n",
    "\n",
    "\n",
    "print(r)"
   ]
  },
  {
   "cell_type": "code",
   "execution_count": 16,
   "metadata": {
    "deletable": false,
    "editable": false,
    "nbgrader": {
     "cell_type": "code",
     "checksum": "1706a5804e869655e25a0cb0ca7cbe31",
     "grade": true,
     "grade_id": "cell-703678d18acc998c",
     "locked": true,
     "points": 10,
     "schema_version": 3,
     "solution": false,
     "task": false
    }
   },
   "outputs": [
    {
     "data": {
      "text/plain": [
       "'DO NOT MODIFY THIS CELL'"
      ]
     },
     "execution_count": 16,
     "metadata": {},
     "output_type": "execute_result"
    }
   ],
   "source": [
    "\"\"\"Checks whether 1.1.1.g output is correct\"\"\"\n",
    "\"\"\"DO NOT MODIFY THIS CELL\"\"\""
   ]
  },
  {
   "cell_type": "markdown",
   "metadata": {
    "deletable": false,
    "editable": false,
    "nbgrader": {
     "cell_type": "markdown",
     "checksum": "eb6c565dc3d17dd3ec24b3cf3f990242",
     "grade": false,
     "grade_id": "cell-0bc68d22e8c46a13",
     "locked": true,
     "schema_version": 3,
     "solution": false,
     "task": false
    }
   },
   "source": [
    "**1.1.2.a** (0.25 points) Generate these matrices: (As numpy ndarrays, not as np.matrix!)\n",
    "\n",
    "\\begin{equation}\n",
    "     \\textbf{M} = \\begin{pmatrix} \n",
    "         1 & 2 & 3 \\\\\n",
    "         6 & 8 & 4 \\\\\n",
    "         6 & 7 & 5          \n",
    "         \\end{pmatrix}\n",
    "     \\textbf{N} = \\begin{pmatrix} \n",
    "         4 & 6 \\\\\n",
    "         7 & 2 \\\\\n",
    "         5 & 1\n",
    "         \\end{pmatrix}\n",
    "     \\textbf{P} = \\begin{pmatrix} \n",
    "         2 & 5 \\\\\n",
    "         5 & 5 \n",
    "         \\end{pmatrix}   \n",
    "\\end{equation}\n",
    "\n",
    "Afterwards try and compute the operations for subquestions *a* up to and including *e* and print the resulting matrix. **If some operations yield errors, give the reason as to why that happens and comment out the code that yields the error.** (As an exception, you can answer the question about the reason in a comment)\n",
    "\n",
    "*A hint: NumPy has functions for matrix operations you can, and should, use! For instance, **M &ast; N** should be calculated with NumPy's `dot` product. Different operations, such as the &ast; operator or np.matmul may not work as you might think!*"
   ]
  },
  {
   "cell_type": "code",
   "execution_count": 17,
   "metadata": {
    "deletable": false,
    "nbgrader": {
     "cell_type": "code",
     "checksum": "c3d1e050d11a93febedfd84834740339",
     "grade": false,
     "grade_id": "cell-4afb0f2e05f34ef4",
     "locked": false,
     "schema_version": 3,
     "solution": true,
     "task": false
    }
   },
   "outputs": [
    {
     "name": "stdout",
     "output_type": "stream",
     "text": [
      "[[1 2 3]\n",
      " [6 8 4]\n",
      " [6 7 5]]\n",
      "[[4 6]\n",
      " [7 2]\n",
      " [5 1]]\n",
      "[[2 5]\n",
      " [5 5]]\n"
     ]
    }
   ],
   "source": [
    "##Generate the matrices using Python and NumPy\n",
    "\n",
    "import numpy as np\n",
    "M = np.array([[1,2,3], [6,8,4], [6,7,5]])\n",
    "N = np.array([[4,6], [7,2], [5,1]])\n",
    "P = np.array([[2,5], [5,5]])\n",
    "print(M)\n",
    "print(N)\n",
    "print(P)"
   ]
  },
  {
   "cell_type": "code",
   "execution_count": 18,
   "metadata": {
    "deletable": false,
    "editable": false,
    "nbgrader": {
     "cell_type": "code",
     "checksum": "7231f67dadb8354c42e5cc8fb4dca179",
     "grade": true,
     "grade_id": "cell-fc482e67f77bf335",
     "locked": true,
     "points": 25,
     "schema_version": 3,
     "solution": false,
     "task": false
    }
   },
   "outputs": [
    {
     "data": {
      "text/plain": [
       "'DO NOT MODIFY THIS CELL'"
      ]
     },
     "execution_count": 18,
     "metadata": {},
     "output_type": "execute_result"
    }
   ],
   "source": [
    "\"\"\"Checks whether 1.1.2.a output is correct\"\"\"\n",
    "\"\"\"DO NOT MODIFY THIS CELL\"\"\""
   ]
  },
  {
   "cell_type": "markdown",
   "metadata": {
    "deletable": false,
    "editable": false,
    "nbgrader": {
     "cell_type": "markdown",
     "checksum": "f81170808644aad8b8cceafd8493a6b1",
     "grade": false,
     "grade_id": "cell-fdf2c57c6c7a7fac",
     "locked": true,
     "schema_version": 3,
     "solution": false,
     "task": false
    }
   },
   "source": [
    "> b. (0.2 points) **A** = **MN** + **N**"
   ]
  },
  {
   "cell_type": "code",
   "execution_count": 19,
   "metadata": {
    "deletable": false,
    "nbgrader": {
     "cell_type": "code",
     "checksum": "928c32d95faaf16243ed26b1db186d01",
     "grade": false,
     "grade_id": "cell-2bdcb76c7798d91a",
     "locked": false,
     "schema_version": 3,
     "solution": true,
     "task": false
    }
   },
   "outputs": [
    {
     "name": "stdout",
     "output_type": "stream",
     "text": [
      "[[ 37  19]\n",
      " [107  58]\n",
      " [103  56]]\n"
     ]
    }
   ],
   "source": [
    "##Answer to question 1.1.b.a\n",
    "\n",
    "A = np.dot(M, N) + N\n",
    "\n",
    "print(A)"
   ]
  },
  {
   "cell_type": "code",
   "execution_count": 20,
   "metadata": {
    "deletable": false,
    "editable": false,
    "nbgrader": {
     "cell_type": "code",
     "checksum": "935d1fa42ba3cb85a7df256b9bf745e2",
     "grade": true,
     "grade_id": "cell-08c469fe2867215d",
     "locked": true,
     "points": 20,
     "schema_version": 3,
     "solution": false,
     "task": false
    }
   },
   "outputs": [
    {
     "data": {
      "text/plain": [
       "'DO NOT MODIFY THIS CELL'"
      ]
     },
     "execution_count": 20,
     "metadata": {},
     "output_type": "execute_result"
    }
   ],
   "source": [
    "\"\"\"Checks whether 1.1.2.b output is correct\"\"\"\n",
    "\"\"\"DO NOT MODIFY THIS CELL\"\"\""
   ]
  },
  {
   "cell_type": "markdown",
   "metadata": {
    "deletable": false,
    "editable": false,
    "nbgrader": {
     "cell_type": "markdown",
     "checksum": "b335003f13625aa266feb408110f42cb",
     "grade": false,
     "grade_id": "cell-d1e06444b847cf2a",
     "locked": true,
     "schema_version": 3,
     "solution": false,
     "task": false
    }
   },
   "source": [
    "> c. (0.2 points) **B** = **N**<sup>T</sup>**M**"
   ]
  },
  {
   "cell_type": "code",
   "execution_count": 21,
   "metadata": {
    "deletable": false,
    "nbgrader": {
     "cell_type": "code",
     "checksum": "e5893142bb29fcf4637d197bb30d2a87",
     "grade": false,
     "grade_id": "cell-62e143e0c9de5eee",
     "locked": false,
     "schema_version": 3,
     "solution": true,
     "task": false
    }
   },
   "outputs": [
    {
     "name": "stdout",
     "output_type": "stream",
     "text": [
      "[[76 99 65]\n",
      " [24 35 31]]\n"
     ]
    }
   ],
   "source": [
    "##Answer to question 1.1.2c\n",
    "\n",
    "import numpy as np\n",
    "B = np.dot(N.transpose(), M)\n",
    "\n",
    "\n",
    "print(B)"
   ]
  },
  {
   "cell_type": "code",
   "execution_count": 22,
   "metadata": {
    "deletable": false,
    "editable": false,
    "nbgrader": {
     "cell_type": "code",
     "checksum": "616acf783ce53ae12411f5a85c5aa490",
     "grade": true,
     "grade_id": "cell-816d844646405dc2",
     "locked": true,
     "points": 20,
     "schema_version": 3,
     "solution": false,
     "task": false
    }
   },
   "outputs": [
    {
     "data": {
      "text/plain": [
       "'DO NOT MODIFY THIS CELL'"
      ]
     },
     "execution_count": 22,
     "metadata": {},
     "output_type": "execute_result"
    }
   ],
   "source": [
    "\"\"\"Checks whether 1.1.2.c output is correct\"\"\"\n",
    "\"\"\"DO NOT MODIFY THIS CELL\"\"\""
   ]
  },
  {
   "cell_type": "markdown",
   "metadata": {
    "deletable": false,
    "editable": false,
    "nbgrader": {
     "cell_type": "markdown",
     "checksum": "8c99bd3232f71c0d6ee5d4ecb98bbb9b",
     "grade": false,
     "grade_id": "cell-2d4ad77568c179d1",
     "locked": true,
     "schema_version": 3,
     "solution": false,
     "task": false
    }
   },
   "source": [
    "> d. (0.2 points) **C** = **P**<sup>-1</sup> + **P**"
   ]
  },
  {
   "cell_type": "code",
   "execution_count": 23,
   "metadata": {
    "deletable": false,
    "nbgrader": {
     "cell_type": "code",
     "checksum": "d1affa537704af5f212a1935a68cbc31",
     "grade": false,
     "grade_id": "cell-619687add5c7de79",
     "locked": false,
     "schema_version": 3,
     "solution": true,
     "task": false
    }
   },
   "outputs": [
    {
     "name": "stdout",
     "output_type": "stream",
     "text": [
      "[[1.66666667 5.33333333]\n",
      " [5.33333333 4.86666667]]\n"
     ]
    }
   ],
   "source": [
    "##Answer to question 1.1.2d\n",
    "\n",
    "import numpy as np\n",
    "P = np.array([[2,5], [5,5]])\n",
    "P1 = np.linalg.inv(P) \n",
    "C = P1 + P\n",
    "\n",
    "\n",
    "print(C)"
   ]
  },
  {
   "cell_type": "code",
   "execution_count": 24,
   "metadata": {
    "deletable": false,
    "editable": false,
    "nbgrader": {
     "cell_type": "code",
     "checksum": "3a0477a22d643b728c12c192dfea2519",
     "grade": true,
     "grade_id": "cell-c53cb14ae84755d0",
     "locked": true,
     "points": 20,
     "schema_version": 3,
     "solution": false,
     "task": false
    }
   },
   "outputs": [
    {
     "data": {
      "text/plain": [
       "'DO NOT MODIFY THIS CELL'"
      ]
     },
     "execution_count": 24,
     "metadata": {},
     "output_type": "execute_result"
    }
   ],
   "source": [
    "\"\"\"Checks whether 1.1.2.d output is correct\"\"\"\n",
    "\"\"\"DO NOT MODIFY THIS CELL\"\"\""
   ]
  },
  {
   "cell_type": "markdown",
   "metadata": {
    "deletable": false,
    "editable": false,
    "nbgrader": {
     "cell_type": "markdown",
     "checksum": "4ee35b7daca1a789eec77ff17025e14f",
     "grade": false,
     "grade_id": "cell-b83faf27b0c8e04a",
     "locked": true,
     "schema_version": 3,
     "solution": false,
     "task": false
    }
   },
   "source": [
    "> e. (0.2 points) **D** = **AC**(**C** + **B**)"
   ]
  },
  {
   "cell_type": "code",
   "execution_count": 25,
   "metadata": {
    "deletable": false,
    "nbgrader": {
     "cell_type": "code",
     "checksum": "b36d63abae4fb5b91991587b5b4cd6dc",
     "grade": true,
     "grade_id": "cell-dabacc8aa2798662",
     "locked": false,
     "points": 20,
     "schema_version": 3,
     "solution": true,
     "task": false
    }
   },
   "outputs": [
    {
     "name": "stdout",
     "output_type": "stream",
     "text": [
      "[[21160.46666667 28559.69333333 19578.8       ]\n",
      " [62894.82222222 84883.49777778 58139.26666667]\n",
      " [60637.31111111 81836.52888889 56049.53333333]]\n"
     ]
    }
   ],
   "source": [
    "##Answer to question 1.1.2e\n",
    "\n",
    "import numpy as np\n",
    "C2 = np.c_[ C, np.zeros(2) ]\n",
    "C1 = np.add(C2,B)\n",
    "D = np.dot(np.dot(A,C), C1)\n",
    "\n",
    "\n",
    "print(D)"
   ]
  },
  {
   "cell_type": "code",
   "execution_count": 26,
   "metadata": {
    "deletable": false,
    "editable": false,
    "nbgrader": {
     "cell_type": "code",
     "checksum": "08f01c78ada1ec3f51a79ee0a77e38f5",
     "grade": true,
     "grade_id": "cell-93d86770667975ed",
     "locked": true,
     "points": 0,
     "schema_version": 3,
     "solution": false,
     "task": false
    }
   },
   "outputs": [
    {
     "data": {
      "text/plain": [
       "'DO NOT MODIFY THIS CELL'"
      ]
     },
     "execution_count": 26,
     "metadata": {},
     "output_type": "execute_result"
    }
   ],
   "source": [
    "\"\"\"Checks whether 1.1.2.e output is correct\"\"\"\n",
    "\"\"\"DO NOT MODIFY THIS CELL\"\"\""
   ]
  },
  {
   "cell_type": "markdown",
   "metadata": {
    "deletable": false,
    "editable": false,
    "nbgrader": {
     "cell_type": "markdown",
     "checksum": "93e11a07a01519459f536c1207260ac6",
     "grade": false,
     "grade_id": "cell-934ad6f050761e6c",
     "locked": true,
     "schema_version": 3,
     "solution": false,
     "task": false
    }
   },
   "source": [
    "> f. (0.2 points) Compute the eigenvalues and eigenvectors of **M**, **N**, and **P**, save them as **M_eigvalue** & **M_eigvector**, **N_eigvalue** & **N_eigvector**, and **P_eigvalue** & **P_eigvector** respectively. Then print them."
   ]
  },
  {
   "cell_type": "code",
   "execution_count": 27,
   "metadata": {
    "deletable": false,
    "nbgrader": {
     "cell_type": "code",
     "checksum": "4bc2d2cfcd1df30541ba1537eb9af087",
     "grade": true,
     "grade_id": "cell-b3be21eb6760580a",
     "locked": false,
     "points": 10,
     "schema_version": 3,
     "solution": true,
     "task": false
    }
   },
   "outputs": [
    {
     "name": "stdout",
     "output_type": "stream",
     "text": [
      "N eigenvalue: [ 0.         -3.55743852  9.55743852]\n",
      "N eigvector: \n",
      "[[ 0.          0.52043489 -0.66779522]\n",
      " [ 0.         -0.65552578 -0.61853848]\n",
      " [ 1.         -0.54720515 -0.41407691]]\n",
      "\n",
      "P eigenvalue: [-1.72015325  8.72015325]\n",
      "P eigvector: \n",
      "[[-0.80229293 -0.59693053]\n",
      " [ 0.59693053 -0.80229293]]\n",
      "\n"
     ]
    }
   ],
   "source": [
    "##Answer to question 1.1.2f\n",
    "import numpy as np\n",
    "M_eigvalue, M_eigvector = np.linalg.eig(M)\n",
    "N1 = np.c_[ N, np.zeros(3) ]\n",
    "N_eigvalue, N_eigvector = np.linalg.eig(N1)\n",
    "\n",
    "P_eigvalue, P_eigvector = np.linalg.eig(P)\n",
    "\n",
    "print(\"N eigenvalue: \" + str(N_eigvalue) + \"\\n\" + \"N eigvector: \\n\" + str(N_eigvector) + \"\\n\")\n",
    "print(\"P eigenvalue: \" + str(P_eigvalue) + \"\\n\" + \"P eigvector: \\n\" + str(P_eigvector) + \"\\n\")"
   ]
  },
  {
   "cell_type": "code",
   "execution_count": 28,
   "metadata": {
    "deletable": false,
    "editable": false,
    "nbgrader": {
     "cell_type": "code",
     "checksum": "b3425b1ba6d083308195ff7ebeea3c97",
     "grade": true,
     "grade_id": "cell-d35b4610877002ea",
     "locked": true,
     "points": 10,
     "schema_version": 3,
     "solution": false,
     "task": false
    }
   },
   "outputs": [
    {
     "data": {
      "text/plain": [
       "'DO NOT MODIFY THIS CELL'"
      ]
     },
     "execution_count": 28,
     "metadata": {},
     "output_type": "execute_result"
    }
   ],
   "source": [
    "\"\"\"Checks whether 1.1.2.f output is correct\"\"\"\n",
    "\"\"\"DO NOT MODIFY THIS CELL\"\"\""
   ]
  },
  {
   "cell_type": "markdown",
   "metadata": {
    "deletable": false,
    "editable": false,
    "nbgrader": {
     "cell_type": "markdown",
     "checksum": "81e0e280175de332407a3345f17552ea",
     "grade": false,
     "grade_id": "cell-154174a2fc6332df",
     "locked": true,
     "schema_version": 3,
     "solution": false,
     "task": false
    }
   },
   "source": [
    "## 1.2 The basics of data wrangling\n",
    "\n",
    "Data comes in many shapes and forms, and part of the task of Data Mining is hammering the data into a shape you can analyze.\n",
    "\n",
    "For most usecases in this course, your data will be represented in a matrix, with the rows indicating the samples/measurements, and the columns indicating the attributes/features.\n",
    "For now, you won't have to get the data into a proper shape yet, but you'll have to perform some basic, but useful, operations on a toy dataset included in the Pandas library. Read the comments in the code below, as they will provide useful insight in how to perform these operations yourself later."
   ]
  },
  {
   "cell_type": "code",
   "execution_count": 29,
   "metadata": {
    "deletable": false,
    "editable": false,
    "nbgrader": {
     "cell_type": "code",
     "checksum": "8aeca8c0fbe63c9b4d6f4462e56fdf78",
     "grade": false,
     "grade_id": "cell-b3fbd3e8ac75e8aa",
     "locked": true,
     "schema_version": 3,
     "solution": false,
     "task": false
    }
   },
   "outputs": [
    {
     "name": "stdout",
     "output_type": "stream",
     "text": [
      "Here follows a print of the first few rows of the Iris dataset: \n",
      "   sepal_length  sepal_width  petal_length  petal_width species\n",
      "0           5.1          3.5           1.4          0.2  setosa\n",
      "1           4.9          3.0           1.4          0.2  setosa\n",
      "2           4.7          3.2           1.3          0.2  setosa\n",
      "3           4.6          3.1           1.5          0.2  setosa\n",
      "4           5.0          3.6           1.4          0.2  setosa\n",
      "iris data after removing the last columns: \n",
      "   sepal_length  sepal_width  petal_length  petal_width\n",
      "0           5.1          3.5           1.4          0.2\n",
      "1           4.9          3.0           1.4          0.2\n",
      "2           4.7          3.2           1.3          0.2\n",
      "3           4.6          3.1           1.5          0.2\n",
      "4           5.0          3.6           1.4          0.2\n",
      "first five rows of the iris data as numpy array: \n",
      "[[5.1 3.5 1.4 0.2]\n",
      " [4.9 3.  1.4 0.2]\n",
      " [4.7 3.2 1.3 0.2]\n",
      " [4.6 3.1 1.5 0.2]\n",
      " [5.  3.6 1.4 0.2]]\n"
     ]
    }
   ],
   "source": [
    "# Loading toy data from the seaborn package\n",
    "# normally, seaborn is a plotting package, but it includes useful datasets in the Pandas Dataframe format.\n",
    "import seaborn as sns\n",
    "\n",
    "iris_data = sns.load_dataset('iris')\n",
    "\n",
    "print('Here follows a print of the first few rows of the Iris dataset: ')\n",
    "print(iris_data.head())\n",
    "\n",
    "# The Pandas Dataframe is different from the NumPy ndarray. \n",
    "# Dataframes can contain mixed types of data, and have an index (the first column) \n",
    "# as well as a header (the first row) containing information about what is in the data.\n",
    "\n",
    "# We don't want the string data in the \"species\" column in our data matrix, as it is not numerical, \n",
    "# so we'll remove it by selecting all other columns\n",
    "iris_data_numerical = iris_data[[\"sepal_length\", \"sepal_width\", \"petal_length\", \"petal_width\"]]\n",
    "\n",
    "print(\"iris data after removing the last columns: \")\n",
    "print(iris_data_numerical.head())\n",
    "\n",
    "# Now we'll extract only the numbers from the 4 relevant columns by coercing the Dataframe to a NumPy ndarray\n",
    "iris_data_numpy = iris_data_numerical.values\n",
    "\n",
    "print(\"first five rows of the iris data as numpy array: \")\n",
    "print(iris_data_numpy[:5,:])\n",
    "\n",
    "\n",
    "# As you can see, the rich format of the Dataframe is lost, but we end up with a familiar type of matrix representation\n",
    "\n",
    "# We'll save the numpy array to a variable called \"X\"\n",
    "\n",
    "X = iris_data_numpy"
   ]
  },
  {
   "cell_type": "markdown",
   "metadata": {
    "deletable": false,
    "editable": false,
    "nbgrader": {
     "cell_type": "markdown",
     "checksum": "973bfb24cead273791ad02bf53a4256f",
     "grade": false,
     "grade_id": "cell-d5f99c216398c6ae",
     "locked": true,
     "schema_version": 3,
     "solution": false,
     "task": false
    }
   },
   "source": [
    "**1.2.1: summary statistics** An important part of data analysis is finding out summary statistics for a given dataset. The mean and the standard deviation are statistics which are often looked at per attribute to get a feel for the data\n",
    "\n",
    "> a) (0.25 points) Calculate the mean for each attribute and save it to a ndarray called `X_means`\n",
    "\n",
    "You can use the `np.mean()` function for this. Take a look at the documentation to find out how to use it, and how to set the `axis` argument to obtain the mean of each column."
   ]
  },
  {
   "cell_type": "code",
   "execution_count": 30,
   "metadata": {
    "deletable": false,
    "nbgrader": {
     "cell_type": "code",
     "checksum": "1c4c90850e7c11b73db6b6fab6ec4958",
     "grade": false,
     "grade_id": "cell-dcc683f049068729",
     "locked": false,
     "schema_version": 3,
     "solution": true,
     "task": false
    }
   },
   "outputs": [
    {
     "name": "stdout",
     "output_type": "stream",
     "text": [
      "3.4644999999999997\n"
     ]
    }
   ],
   "source": [
    "X_means = np.mean(X)\n",
    "print(X_means)"
   ]
  },
  {
   "cell_type": "code",
   "execution_count": 31,
   "metadata": {
    "deletable": false,
    "editable": false,
    "nbgrader": {
     "cell_type": "code",
     "checksum": "33b7d047b9dd870fbd20ba07c430d4db",
     "grade": true,
     "grade_id": "cell-50f49c3a2dbab49c",
     "locked": true,
     "points": 25,
     "schema_version": 3,
     "solution": false,
     "task": false
    }
   },
   "outputs": [
    {
     "data": {
      "text/plain": [
       "'DO NOT MODIFY THIS CELL'"
      ]
     },
     "execution_count": 31,
     "metadata": {},
     "output_type": "execute_result"
    }
   ],
   "source": [
    "\"\"\"Checks whether 1.2.1.a output is correct\"\"\"\n",
    "\"\"\"DO NOT MODIFY THIS CELL\"\"\""
   ]
  },
  {
   "cell_type": "markdown",
   "metadata": {
    "deletable": false,
    "editable": false,
    "nbgrader": {
     "cell_type": "markdown",
     "checksum": "82f7bdc7038f34a1a0cc1e6d53b2d399",
     "grade": false,
     "grade_id": "cell-b8885185283c0217",
     "locked": true,
     "schema_version": 3,
     "solution": false,
     "task": false
    }
   },
   "source": [
    "> b) (0.25 points) Calculate the standard deviation for each attribute and save it to a ndarray called `X_stds`\n",
    "\n",
    "You can use the `np.std()` function for this. Take a look at the documentation to find out how to use it, and how to set the `axis` argument to obtain the standard deviation of each column."
   ]
  },
  {
   "cell_type": "code",
   "execution_count": 32,
   "metadata": {
    "deletable": false,
    "nbgrader": {
     "cell_type": "code",
     "checksum": "a69c9135be8388e657b144e99b9783f6",
     "grade": false,
     "grade_id": "cell-4a9bbf2cb947b66e",
     "locked": false,
     "schema_version": 3,
     "solution": true,
     "task": false
    }
   },
   "outputs": [
    {
     "name": "stdout",
     "output_type": "stream",
     "text": [
      "1.9738430577598278\n"
     ]
    }
   ],
   "source": [
    "X_stds = np.std(X)\n",
    "print(X_stds)"
   ]
  },
  {
   "cell_type": "code",
   "execution_count": 33,
   "metadata": {
    "deletable": false,
    "editable": false,
    "nbgrader": {
     "cell_type": "code",
     "checksum": "da83c3703028b842837220a61f16292a",
     "grade": true,
     "grade_id": "cell-cfea1277a1240098",
     "locked": true,
     "points": 25,
     "schema_version": 3,
     "solution": false,
     "task": false
    }
   },
   "outputs": [
    {
     "data": {
      "text/plain": [
       "'DO NOT MODIFY THIS CELL'"
      ]
     },
     "execution_count": 33,
     "metadata": {},
     "output_type": "execute_result"
    }
   ],
   "source": [
    "\"\"\"Checks whether 1.2.1.b output is correct\"\"\"\n",
    "\"\"\"DO NOT MODIFY THIS CELL\"\"\""
   ]
  },
  {
   "cell_type": "markdown",
   "metadata": {
    "deletable": false,
    "editable": false,
    "nbgrader": {
     "cell_type": "markdown",
     "checksum": "c8fffc45c0a1e5f934f160eaa76c4271",
     "grade": false,
     "grade_id": "cell-aea8a32e37971849",
     "locked": true,
     "schema_version": 3,
     "solution": false,
     "task": false
    }
   },
   "source": [
    "**1.2.2: data selection and filtering** Often, you don't want to analyze the entire dataset, but you are looking at a subset. You may for example need to perform a train-test split when you are validating your models (will be covered in later weeks). Other times, you need to filter out data which is not of interest to you.\n",
    "\n",
    "First we're going to select the first 2/3rds of the data, afterwards we'll perform a filtering operation on it.\n",
    "\n",
    "We first need to determine how many samples we have, before we can determine how large 2/3rds is.\n",
    "\n",
    "> a) (0.1 points) Determine what how many samples we have in the iris dataset. Save the answer to a variable called `n_samples`\n",
    "\n",
    "You can use the `.shape` attribute or the `np.shape` function to find the shape of an array/matrix. Think about how the ordering works, which element of the tuple gives the number of samples?"
   ]
  },
  {
   "cell_type": "code",
   "execution_count": 34,
   "metadata": {
    "deletable": false,
    "nbgrader": {
     "cell_type": "code",
     "checksum": "e65c75373e74be89cee34e046a12bd3c",
     "grade": false,
     "grade_id": "cell-a2a36e60d4188e94",
     "locked": false,
     "schema_version": 3,
     "solution": true,
     "task": false
    }
   },
   "outputs": [
    {
     "name": "stdout",
     "output_type": "stream",
     "text": [
      "(150, 4)\n"
     ]
    }
   ],
   "source": [
    "n_samples = np.shape(X)\n",
    "print(n_samples)"
   ]
  },
  {
   "cell_type": "code",
   "execution_count": 35,
   "metadata": {
    "deletable": false,
    "editable": false,
    "nbgrader": {
     "cell_type": "code",
     "checksum": "e0a385405e8ee57b50b9317c2eaf1963",
     "grade": true,
     "grade_id": "cell-e5f500098a1e01cb",
     "locked": true,
     "points": 10,
     "schema_version": 3,
     "solution": false,
     "task": false
    }
   },
   "outputs": [
    {
     "data": {
      "text/plain": [
       "'DO NOT MODIFY THIS CELL'"
      ]
     },
     "execution_count": 35,
     "metadata": {},
     "output_type": "execute_result"
    }
   ],
   "source": [
    "\"\"\"Checks whether 1.2.2.a output is correct\"\"\"\n",
    "\"\"\"DO NOT MODIFY THIS CELL\"\"\""
   ]
  },
  {
   "cell_type": "markdown",
   "metadata": {
    "deletable": false,
    "editable": false,
    "nbgrader": {
     "cell_type": "markdown",
     "checksum": "f4893b42a2d94db60c4e065284d23581",
     "grade": false,
     "grade_id": "cell-3327ac36c0c5d73d",
     "locked": true,
     "schema_version": 3,
     "solution": false,
     "task": false
    }
   },
   "source": [
    "> b) (0.3 points) Select the first 2/3rd of the data, and write it to a variable called `X_train`.\n",
    "\n",
    "You can use indexing to select certain elements of a matrix. \n",
    "`X[0,:]` selects the first sample. (a colon means \"all\" on that axis)\n",
    "`X[:,:2]` selects the first two columns.\n",
    "`X[4:10,0]` selects the 5th to the 9th sample, but only the first attribute."
   ]
  },
  {
   "cell_type": "code",
   "execution_count": 36,
   "metadata": {
    "deletable": false,
    "nbgrader": {
     "cell_type": "code",
     "checksum": "f56f51b571b44bad280f54b27c811193",
     "grade": false,
     "grade_id": "cell-dad28ff5c261fbf6",
     "locked": false,
     "schema_version": 3,
     "solution": true,
     "task": false
    }
   },
   "outputs": [
    {
     "name": "stdout",
     "output_type": "stream",
     "text": [
      "[0.2 0.2 0.2 0.2 0.2 0.4 0.3 0.2 0.2 0.1 0.2 0.2 0.1 0.1 0.2 0.4 0.4 0.3\n",
      " 0.3 0.3 0.2 0.4 0.2 0.5 0.2 0.2 0.4 0.2 0.2 0.2 0.2 0.4 0.1 0.2 0.2 0.2\n",
      " 0.2 0.1 0.2 0.2 0.3 0.3 0.2 0.6 0.4 0.3 0.2 0.2 0.2 0.2 1.4 1.5 1.5 1.3\n",
      " 1.5 1.3 1.6 1.  1.3 1.4 1.  1.5 1.  1.4 1.3 1.4 1.5 1.  1.5 1.1 1.8 1.3\n",
      " 1.5 1.2 1.3 1.4 1.4 1.7 1.5 1.  1.1 1.  1.2 1.6 1.5 1.6 1.5 1.3 1.3 1.3\n",
      " 1.2 1.4 1.2 1.  1.3 1.2 1.3 1.3 1.1 1.3]\n"
     ]
    }
   ],
   "source": [
    "n_samples_in_train = None\n",
    "# (150, 4)\n",
    "X_train = X[:100, 3]\n",
    "print(X_train)"
   ]
  },
  {
   "cell_type": "code",
   "execution_count": 37,
   "metadata": {
    "deletable": false,
    "editable": false,
    "nbgrader": {
     "cell_type": "code",
     "checksum": "272db36f0a55a1efed4f9afa08f8a0df",
     "grade": true,
     "grade_id": "cell-a01bd4ff1b9616e6",
     "locked": true,
     "points": 30,
     "schema_version": 3,
     "solution": false,
     "task": false
    }
   },
   "outputs": [
    {
     "data": {
      "text/plain": [
       "'DO NOT MODIFY THIS CELL'"
      ]
     },
     "execution_count": 37,
     "metadata": {},
     "output_type": "execute_result"
    }
   ],
   "source": [
    "\"\"\"Checks whether 1.2.2.b output is correct\"\"\"\n",
    "\"\"\"DO NOT MODIFY THIS CELL\"\"\""
   ]
  },
  {
   "cell_type": "markdown",
   "metadata": {
    "deletable": false,
    "editable": false,
    "nbgrader": {
     "cell_type": "markdown",
     "checksum": "64e1f415e94ea57118046d53ba3512f7",
     "grade": false,
     "grade_id": "cell-8e8032d94b91d066",
     "locked": true,
     "schema_version": 3,
     "solution": false,
     "task": false
    }
   },
   "source": [
    "## Intermezzo: proper scientific plotting practices \n",
    "\n",
    "**In this course and many others** you will be asked to make a lot of plots. If you've ever read an academic paper, you'll have noticed that **besides** axis labels, titles and legends, these also contain a figure description *for each plot*. The idea is that you can 'read' a figure without skimming through the text for the explanation. So these figure descriptions should contain\n",
    "\n",
    "1. A short sentence in natural language explaining what we're looking at, (what is on each axis?)\n",
    "2. references to the axis labels and legend if these are not clear immediately, and\n",
    "3. provide a short answer to the question that it belongs to. \n",
    "\n",
    "### Examples:"
   ]
  },
  {
   "cell_type": "code",
   "execution_count": 38,
   "metadata": {
    "deletable": false,
    "editable": false,
    "nbgrader": {
     "cell_type": "code",
     "checksum": "b9bcd9206bb41623c6188edf14b0cba6",
     "grade": false,
     "grade_id": "cell-a14e18380558dc80",
     "locked": true,
     "schema_version": 3,
     "solution": false,
     "task": false
    }
   },
   "outputs": [
    {
     "data": {
      "image/png": "[encoded data removed]",
      "text/plain": [
       "<Figure size 432x288 with 1 Axes>"
      ]
     },
     "metadata": {
      "needs_background": "light"
     },
     "output_type": "display_data"
    },
    {
     "name": "stdout",
     "output_type": "stream",
     "text": [
      "Figure 1: an example of a simple plot. X axis shows the index of each element, the Y axis shows increasing numbers.\n"
     ]
    },
    {
     "data": {
      "image/png": "[encoded data removed]",
      "text/plain": [
       "<Figure size 432x288 with 1 Axes>"
      ]
     },
     "metadata": {
      "needs_background": "light"
     },
     "output_type": "display_data"
    },
    {
     "name": "stdout",
     "output_type": "stream",
     "text": [
      "Figure 2: an example of a slightly more complex plot, where we explicitely set the values on the X axis. X axis shows the index of each element, the Y axis shows increasing numbers.\n"
     ]
    },
    {
     "name": "stderr",
     "output_type": "stream",
     "text": [
      "<ipython-input-38-9f68cc709d78>:48: DeprecationWarning: `np.int` is a deprecated alias for the builtin `int`. To silence this warning, use `int` by itself. Doing this will not modify any behavior and is safe. When replacing `np.int`, you may wish to use e.g. `np.int64` or `np.int32` to specify the precision. If you wish to review your current use, check the release note link for additional information.\n",
      "Deprecated in NumPy 1.20; for more details and guidance: https://numpy.org/devdocs/release/1.20.0-notes.html#deprecations\n",
      "  im[(points[0]).astype(np.int), (points[1]).astype(np.int)] = 1 # sets the value at those indices to 1\n"
     ]
    },
    {
     "data": {
      "image/png": "[encoded data removed]",
      "text/plain": [
       "<Figure size 576x576 with 6 Axes>"
      ]
     },
     "metadata": {},
     "output_type": "display_data"
    },
    {
     "name": "stdout",
     "output_type": "stream",
     "text": [
      "Figure 3: an example of a complex plot, which showcases some neat pretty stuff that matplotlib can do! Seaborn is a library that you can use to make your plots look nicer. Subplots are used to create multiple plots within the same figure. First I plotted some random black dots, and then I used the bar functions to plot the same information but more complicated. imshow can be used to plot your array as an image for easy inspection. Here, I created an image of blobs using random numbers and a gaussian blur filter. Histograms are nice for checking distributions, for instance, the distribution of gray values in an image containing blobs!\n"
     ]
    }
   ],
   "source": [
    "import matplotlib.pyplot as plt\n",
    "numbers = np.arange(100,1001,100)\n",
    "\n",
    "# Simple plot\n",
    "test_fig_1 = plt.figure()\n",
    "plt.plot(numbers)\n",
    "plt.xlabel('x-axis')\n",
    "plt.ylabel('y-axis')\n",
    "plt.title('Numbers')\n",
    "plt.show()\n",
    "print('Figure 1: an example of a simple plot. X axis shows the index of each element, the Y axis shows increasing numbers.')\n",
    "\n",
    "# a little more complex plot\n",
    "\n",
    "indices = np.arange(5,15)\n",
    "plt.scatter(indices,numbers)\n",
    "plt.xlabel('x-axis')\n",
    "plt.ylabel('y-axis')\n",
    "plt.title('Numbers')\n",
    "plt.show()\n",
    "print('Figure 2: an example of a slightly more complex plot, where we explicitely set the values on the X axis. X axis shows the index of each element, the Y axis shows increasing numbers.')\n",
    "\n",
    "\n",
    "# an incredibly unnecessary complex plot\n",
    "import seaborn as sns # nicer graphics\n",
    "sns.set_style('darkgrid')\n",
    "\n",
    "fig,ax = plt.subplots(3,2,figsize=(8,8)) # create 3 rows of 2 columns of subplots\n",
    "ax = ax.ravel()\n",
    "\n",
    "x = np.random.normal(0.1, 1,10) #10 numbers with a mean of 0.1 and a sigma of 1\n",
    "y = np.random.normal(1, 0.1,10) #10 numbers with a mean of 1 and a sigma of 0.1\n",
    "\n",
    "ax[0].plot(x,y,'k.') # k means black and . means it should plot dots. Similarly, 'r-' results in a red line and \n",
    "                    # 'b--' would result in a blue checkered line.\n",
    "ax[0].set_title('Random black dots using x and y as coords')\n",
    "ax[0].set_ylabel('Row 0 of subplots')\n",
    "ax[1].bar(range(0,10),x,color='orange') #the first argument tells plt where to place the bars, so range(0,10) just puts them on 0,..,9\n",
    "ax[1].set_title('Vertical bars of x values')\n",
    "\n",
    "ax[2].barh(range(0,10),y,color='darkblue')\n",
    "ax[2].set_title('Horizontal bars of y values')\n",
    "ax[2].set_ylabel('Row 1 of subplots')\n",
    "from scipy import ndimage \n",
    "\n",
    "im = np.zeros((28, 28)) # creates an 28x28 array of zeros\n",
    "points = 28 * np.random.random((2, 3 ** 2)) # creates 28 random (x,y) pairs that we will use as indices\n",
    "im[(points[0]).astype(np.int), (points[1]).astype(np.int)] = 1 # sets the value at those indices to 1\n",
    "im = ndimage.gaussian_filter(im, sigma=28 / (4. * 3)) # puts the array through an image filter that \n",
    "                                                        # blurs the 0's and 1's together\n",
    "blobs = (im > im.mean())*255 # seperates them back into 0's and 1's after blurring \n",
    "\n",
    "ax[3].imshow(blobs,cmap='gray') # plots the array as an image, where each pixel corresponds to a 0 or 1 in our array\n",
    "ax[3].set_title('Blobs in black and white')\n",
    "\n",
    "ax[4].hist(im.ravel(), bins=12,color='green',rwidth=0.9) # plot the gray values from the array in a histogram with 12 bins\n",
    "ax[4].set_title('Distribution of gray values')\n",
    "ax[4].set_ylabel('Row 2 of subplots')\n",
    "ax[4].set_xlabel('Column 0 of subplots')\n",
    "ax[5].hist(im.ravel(),bins=12, cumulative=True, color='orange',rwidth=0.9,alpha=0.8,label='summed') # plot a see through \n",
    "                                                                                # cumulative histogram with alpha\n",
    "ax[5].hist(im.ravel(), bins=12,color='green',rwidth=0.9,alpha=0.7,label='values') # plot the gray values from the array in a histogram with 12 bins\n",
    "ax[5].set_title('(Cumulative) Distribution of gray values')\n",
    "ax[5].legend()\n",
    "ax[5].set_xlabel('Column 1 of subplots')\n",
    "plt.tight_layout() # makes sure everything fits without overlapping -- try running this cell without this to see the effect\n",
    "\n",
    "plt.show()\n",
    "\n",
    "print('Figure 3: an example of a complex plot, which showcases some neat pretty stuff that matplotlib can do! Seaborn is a library that you can use to make your plots look nicer. Subplots are used to create multiple plots within the same figure. First I plotted some random black dots, and then I used the bar functions to plot the same information but more complicated. imshow can be used to plot your array as an image for easy inspection. Here, I created an image of blobs using random numbers and a gaussian blur filter. Histograms are nice for checking distributions, for instance, the distribution of gray values in an image containing blobs!')\n",
    "sns.reset_orig()"
   ]
  },
  {
   "cell_type": "markdown",
   "metadata": {
    "deletable": false,
    "editable": false,
    "nbgrader": {
     "cell_type": "markdown",
     "checksum": "1a97427c2d440625ddb9da6504bf7eee",
     "grade": false,
     "grade_id": "cell-a40f10faf84f38f2",
     "locked": true,
     "schema_version": 3,
     "solution": false,
     "task": false
    }
   },
   "source": [
    "## 1.3 Principal Component Analysis\n",
    "\n",
    "**1.3.1** many experimenters have a habit of using Microsoft Excel as their tool to record measurements from experiments. Fortunately Python can read Excel files. Various methods exist, of which the use of the Python library Pandas is arguably one of the easiest for the purpose of Data Mining.\n",
    "\n",
    "The data used in this exercise is based on data from a chemical sensor obtained from the NanoNose project[1]. The data contains 8 sensors, named by the letters A-H, measuring the concentration of Water, Ethanol, Acetone, Heptane and Pentanol injected into a small gas chamber. The data will be represented in matrix form such that each column contains the 8 sensor measurements (i.e., sensor A-H) of the various compounds injected into the gas chamber.\n",
    "> a. (0.2 points) Inspect the nanonose.xls file in the `data` folder and make sure you understand how the data is stored in Excel.\n",
    "\n",
    "> *Load the data in python using the Pandas library (use the `read_excel()` function). Make sure you read some of the Pandas documentation! Especially (column) slicing, (row) indexing and dropping are useful commands to get the correct data here.*\n",
    "\n",
    "> *Make sure to inspect the data first. You should cut out some rows and columns! You can easily inspect the structure of the Pandas dataframe by printing using the `head()` function.*\n",
    "\n",
    "> *You should see the 8 columns named A-H and the first 5 rows by printing `head()`.*\n",
    "\n",
    "> *Finally call the `.values` attribute to cast the Pandas dataframe to a NumPy array called `X`. Make sure that all columns and rows containing numerical data are included in your final answer. It would be a good idea to perform a sanity check by checking whether the Pandas dataframe, and the NumPy array have the same number of rows and columns.* \n",
    "\n",
    "> *We will reproduce your results on our machines, you are therefore required to use correct procedures for specifying the path in which files are located. For all exercises, you are required to use relative paths, in this case: `./data/nanonose.xls`.*"
   ]
  },
  {
   "cell_type": "code",
   "execution_count": 58,
   "metadata": {
    "deletable": false,
    "nbgrader": {
     "cell_type": "code",
     "checksum": "d4af73cf99603bece9862134fb62ad19",
     "grade": false,
     "grade_id": "cell-81d79ba2697a6520",
     "locked": false,
     "schema_version": 3,
     "solution": true,
     "task": false
    },
    "scrolled": false
   },
   "outputs": [
    {
     "name": "stdout",
     "output_type": "stream",
     "text": [
      "(91, 10)\n",
      "[[95.5        21.          6.         11.94230769 64.13461538 21.49856\n",
      "   5.56784     1.174135  ]\n",
      " [94.5        17.          5.          5.48461538 63.20576923 19.65856\n",
      "   4.968       1.8834439 ]\n",
      " [92.         16.          3.         11.05769231 62.58653846 19.81312\n",
      "   5.19248     0.56483468]\n",
      " [53.          7.5         2.5         3.53846154 35.16346154  6.8762069\n",
      "   1.64172414  0.14465409]]\n"
     ]
    }
   ],
   "source": [
    "import pandas as pd\n",
    "X = pd.read_excel('./data/nanonose.xls', index_col=0)\n",
    "print(X.shape) \n",
    "X_matrix = X.values[:,2:].astype(float)\n",
    "\n",
    "print(X_matrix[1:5])"
   ]
  },
  {
   "cell_type": "code",
   "execution_count": 40,
   "metadata": {
    "deletable": false,
    "editable": false,
    "nbgrader": {
     "cell_type": "code",
     "checksum": "f6fb559562ea314bdf00f9d3be8fad9b",
     "grade": true,
     "grade_id": "cell-a1801991fc2465c3",
     "locked": true,
     "points": 20,
     "schema_version": 3,
     "solution": false,
     "task": false
    }
   },
   "outputs": [
    {
     "data": {
      "text/plain": [
       "'DO NOT MODIFY THIS CELL'"
      ]
     },
     "execution_count": 40,
     "metadata": {},
     "output_type": "execute_result"
    }
   ],
   "source": [
    "\"\"\"Checks whether 1.2.1.a output is correct\"\"\"\n",
    "\"\"\"DO NOT MODIFY THIS CELL\"\"\""
   ]
  },
  {
   "cell_type": "markdown",
   "metadata": {
    "deletable": false,
    "editable": false,
    "nbgrader": {
     "cell_type": "markdown",
     "checksum": "0440d5524aed089f652f03a7d5a082c6",
     "grade": false,
     "grade_id": "cell-c119e47975490fb8",
     "locked": true,
     "schema_version": 3,
     "solution": false,
     "task": false
    }
   },
   "source": [
    "> b. (0.4 points) The data resides in what can be seen as an 8-dimensional space. Each dimension (column), corresponds to one of the 8 NanoNose sensors. Multidimensional (>3) data is hard to visualize, as we are unable to plot that many dimensions simultaneously.\n",
    "\n",
    "> Using the `matplotlib.pyplot` library, plot the following 4 attributes combinations against each other on the X-axis vs Y-axis respectively: 1: A vs. B, 2: C vs, D, 3: A vs. E, 4: B vs. H . As you are visualizing separate points with no sequential relationship over the X-axis, you should create a **scatter** plot.\n",
    "\n",
    "> Every figure needs to have assigned a set variable name in order for our automatic grading procedure. Using `plot_name = plt.figure()` before starting the plotting procedure, you can assign a figure a name. (see the first figure in the example) Do not forget to call `plt.show()` when you're done plotting and modifying your figure.\n",
    "\n",
    "> Use the following names for your plots: `scatter_plot_AB`, `scatter_plot_CD`, `scatter_plot_AE`, and `scatter_plot_BH` for the 4 respective plots.\n",
    "\n",
    "> *Do not forget to label your axes and add a figure description!*"
   ]
  },
  {
   "cell_type": "code",
   "execution_count": 69,
   "metadata": {
    "deletable": false,
    "nbgrader": {
     "cell_type": "code",
     "checksum": "e112541537923d05a05ec90caddef687",
     "grade": false,
     "grade_id": "cell-e91061559263c48f",
     "locked": false,
     "schema_version": 3,
     "solution": true,
     "task": false
    }
   },
   "outputs": [
    {
     "data": {
      "image/png": "[encoded data removed]",
      "text/plain": [
       "<Figure size 432x288 with 1 Axes>"
      ]
     },
     "metadata": {
      "needs_background": "light"
     },
     "output_type": "display_data"
    },
    {
     "data": {
      "image/png": "[encoded data removed]",
      "text/plain": [
       "<Figure size 432x288 with 1 Axes>"
      ]
     },
     "metadata": {
      "needs_background": "light"
     },
     "output_type": "display_data"
    },
    {
     "data": {
      "image/png": "[encoded data removed]",
      "text/plain": [
       "<Figure size 432x288 with 1 Axes>"
      ]
     },
     "metadata": {
      "needs_background": "light"
     },
     "output_type": "display_data"
    },
    {
     "data": {
      "image/png": "[encoded data removed]",
      "text/plain": [
       "<Figure size 432x288 with 1 Axes>"
      ]
     },
     "metadata": {
      "needs_background": "light"
     },
     "output_type": "display_data"
    }
   ],
   "source": [
    "import matplotlib.pyplot as plt\n",
    "\n",
    "scatter_plot_AB = plt.figure()\n",
    "plt.ylabel(\"A\")\n",
    "plt.xlabel(\"B\")\n",
    "plt.title(\"scatter plot AB\\n\")\n",
    "remove_nan_a = X.get([\"A\"]).dropna().values.tolist()\n",
    "remove_nan_b = X.get([\"B\"]).dropna().values.tolist()\n",
    "#print(len(remove_nan))\n",
    "plt.plot(remove_nan_a, remove_nan_b,'bs')\n",
    "plt.show()\n",
    "\n",
    "scatter_plot_CD = plt.figure()\n",
    "plt.ylabel(\"C\")\n",
    "plt.xlabel(\"D\")\n",
    "plt.title(\"scatter plot CD\\n\")\n",
    "remove_nan_a = X.get([\"C\"]).dropna().values.tolist()\n",
    "remove_nan_b = X.get([\"D\"]).dropna().values.tolist()\n",
    "plt.plot(remove_nan_a,remove_nan_b,'rs')\n",
    "plt.show()\n",
    "\n",
    "scatter_plot_AE = plt.figure()\n",
    "plt.ylabel(\"A\")\n",
    "plt.xlabel(\"E\")\n",
    "plt.title(\"scatter plot AE\\n\")\n",
    "remove_nan_a = X.get([\"A\"]).dropna().values.tolist()\n",
    "remove_nan_b = X.get([\"E\"]).dropna().values.tolist()\n",
    "plt.plot(remove_nan_a, remove_nan_b,'bs')\n",
    "plt.show()\n",
    "\n",
    "scatter_plot_BH = plt.figure()\n",
    "plt.ylabel(\"B\")\n",
    "plt.xlabel(\"H\")\n",
    "plt.title(\"scatter plot BH\\n\")\n",
    "remove_nan_a = X.get([\"B\"]).dropna().values.tolist()\n",
    "remove_nan_b = X.get([\"H\"]).dropna().values.tolist()\n",
    "plt.plot(remove_nan_a,remove_nan_b, 'rs')\n",
    "plt.show()\n"
   ]
  },
  {
   "cell_type": "code",
   "execution_count": 42,
   "metadata": {
    "deletable": false,
    "editable": false,
    "nbgrader": {
     "cell_type": "code",
     "checksum": "8299f12e8bd6b182e2726a7b22df2465",
     "grade": true,
     "grade_id": "cell-f1e9518e67c5c19e",
     "locked": true,
     "points": 40,
     "schema_version": 3,
     "solution": false,
     "task": false
    }
   },
   "outputs": [
    {
     "data": {
      "text/plain": [
       "'DO NOT MODIFY THIS CELL'"
      ]
     },
     "execution_count": 42,
     "metadata": {},
     "output_type": "execute_result"
    }
   ],
   "source": [
    "\"\"\"Checks whether 1.2.1.b. output is correct\"\"\"\n",
    "\"\"\"DO NOT MODIFY THIS CELL\"\"\""
   ]
  },
  {
   "cell_type": "markdown",
   "metadata": {
    "deletable": false,
    "editable": false,
    "nbgrader": {
     "cell_type": "markdown",
     "checksum": "8989709323fb1d72e20797f7f60becad",
     "grade": false,
     "grade_id": "cell-d697e9e95c9824d3",
     "locked": true,
     "schema_version": 3,
     "solution": false,
     "task": false
    }
   },
   "source": [
    "\n",
    "**1.3.2** Principal Component Analysis, more commonly known as PCA, can be used to visualize high dimensional data. \n",
    "\n",
    "> a. (1 point) Explain what PCA is and when it can be used. Make sure to provide an in-depth explanation and note what the drawbacks and limitations are."
   ]
  },
  {
   "cell_type": "raw",
   "metadata": {
    "deletable": false,
    "nbgrader": {
     "cell_type": "markdown",
     "checksum": "f67e085b5500de6f976ca1ba4be65485",
     "grade": true,
     "grade_id": "cell-05fe2e27477a6327",
     "locked": false,
     "points": 100,
     "schema_version": 3,
     "solution": true,
     "task": false
    }
   },
   "source": [
    "YOUR ANSWER HERE:\n",
    "Principal component analysis,or also PCA, is a statistical technique that makes you summarize the information content in large data tables. PCA can be applied to square data matrices and it can approximate the data as much as possible in the least squares sense. When applying PCA, the basis of a vector is being changed while preserving the angles among datapoints. The rotation or reflection of the vectors implies that the new vectors need to be orthogonal to each other when comparing again. That said, PCA ultimately shows strong patterns in the data after appication while preserving the total variability and all new vectors resulting from the analysis will have a value explained by the relative PC.\n",
    "\n",
    "Limitations of PCA are:\n",
    "PCA doesn't work if there is not a linear relationship in the data and if the attributes are not normalized, their scale can affect the direction of the principal components."
   ]
  },
  {
   "cell_type": "markdown",
   "metadata": {
    "deletable": false,
    "editable": false,
    "nbgrader": {
     "cell_type": "markdown",
     "checksum": "35036403f158a68cb9a56fd068028a82",
     "grade": false,
     "grade_id": "cell-3d6da0e02bff65cd",
     "locked": true,
     "schema_version": 3,
     "solution": false,
     "task": false
    }
   },
   "source": [
    "To apply PCA we must first mean center the data. Mean centering means that the mean value for an attribute (i.e. a column) is subtracted from all values for that attribute. \n",
    "\n",
    "> b. (0.5 points) Why do we first need to mean center the data before applying PCA?"
   ]
  },
  {
   "cell_type": "markdown",
   "metadata": {
    "deletable": false,
    "nbgrader": {
     "cell_type": "markdown",
     "checksum": "bf10832f2fe642e19eb536ca4c44b6a4",
     "grade": true,
     "grade_id": "cell-1964fdb898b56c12",
     "locked": false,
     "points": 50,
     "schema_version": 3,
     "solution": true,
     "task": false
    }
   },
   "source": [
    "YOUR ANSWER HERE:\n",
    "\n",
    "Mean centering is a requirement when applying Principal Component Analysis, because it gives direction of variability across the mean of the samples by creating the covariance matrix. The consequence of mean centering is that the means of the variables are then equal to zero and we are able to check the linearity of the relationship among variables by the amount of the covariance value. When PCA has non centered data, the eigen-decomposition is applyed on the X⊤X/(n−1) matrix. However, it is important to point out that mean centering is not the main aim of PCS, since we are interested in the relationships among data points, and not their mean, therefore mean centering in short just makes the data more accurate.\n",
    "------\n",
    "\n",
    "Because PC vectors start in the origin, in this case your components will also be describing the mean of the data. Especially if the means of the attributes is high relative to their variance, your first PC will be pointing towards the mean. This also makes your other PCs less informative as they are constrained to be orthogonal to the first (uninformative) PC.\n",
    "\n",
    "When using PCA, you are generally interested in the -relationship- among datapoints themselves, and not their mean.\n",
    "\n",
    "------\n",
    "\n",
    "If we didn't mean-center the data, the most \"important\" axis would be the one on which the data deviates from zero - for example, if all of our 2D data has x values around 0, but y values around 5, the first principal component would essentially be the y axis - because, indeed, if we were to remove it, we would lose the most information about the data.\n",
    "\n",
    "On the other hand, if we do mean-center the data, we will be able to focus on the inter-variable dependencies."
   ]
  },
  {
   "cell_type": "markdown",
   "metadata": {
    "deletable": false,
    "editable": false,
    "nbgrader": {
     "cell_type": "markdown",
     "checksum": "c934cbb08739105acbb5e7edd7088033",
     "grade": false,
     "grade_id": "cell-1b8624cb34f85270",
     "locked": true,
     "schema_version": 3,
     "solution": false,
     "task": false
    }
   },
   "source": [
    "In practice, applying PCA comes down to a series of matrix operations, this is useful, as matrix operations can be applied with little effort and can be computed in relatively little time.\n",
    "\n",
    "The given data **X** must first be mean centered. This can be easily done by calculating a row vector **μ** containing the mean values of each attribute. Then you can subtract **μ** from **X** (**Y** = **X** - **μ**, where **μ** is subtracted from every row.).\n",
    "\n",
    "Then, the Singular Value Decomposition (or SVD) of **Y**, the now mean centered data, can be calculated. **Y** = **USV**<sup>T</sup>. In practice, this is often done using the `numpy.linalg.svd()` function.\n",
    "\n",
    "Using SVD on **Y** yields 3 matrices **U**, **S** and **V**<sup>T</sup>. These are used to project the data onto specific Principal Components (PCs). \n",
    "\n",
    "The entire dataset can be projected onto the Principal Components by multiplying **Z** = **Y\\*V**, where **Z** indicates the projected data, and **Z[:,0]** indicates the data projected onto the first PC. Alternatively, one could project onto just a subset of all the PCs by indexing in the multiplication. For example: **Z** = **Y\\*V[:,0]** would also yield the projection of the data onto the first PC.\n",
    "\n",
    "_Note that for matrices, the mathematical notation **Y\\*V** denotes the `dot` product between **Y** and **V**! This is different from how you would express it in Python!_\n",
    "\n",
    "> c. (1 point)  Apply PCA (using the aforementioned method) on the Nanonose data and visualize a scatterplot of the projection of the data onto the first two PCs. Name your plot (as a result from `plt.figure()`): `scatter_pc1_pc2`"
   ]
  },
  {
   "cell_type": "code",
   "execution_count": 94,
   "metadata": {
    "deletable": false,
    "nbgrader": {
     "cell_type": "code",
     "checksum": "3d25c0da547eaf711efeb59a31fd51f7",
     "grade": false,
     "grade_id": "cell-527394db5d3ad451",
     "locked": false,
     "schema_version": 3,
     "solution": true,
     "task": false
    },
    "scrolled": true
   },
   "outputs": [
    {
     "name": "stdout",
     "output_type": "stream",
     "text": [
      "Unnamed: 1    8664.666667\n",
      "Unnamed: 2            NaN\n",
      "A                9.465267\n",
      "B               20.327234\n",
      "C               10.498268\n",
      "D               23.430042\n",
      "E               27.714146\n",
      "F               15.321816\n",
      "G               16.026104\n",
      "H               20.094031\n",
      "dtype: float64\n"
     ]
    },
    {
     "data": {
      "image/png": "[encoded data removed]",
      "text/plain": [
       "<Figure size 432x288 with 1 Axes>"
      ]
     },
     "metadata": {
      "needs_background": "light"
     },
     "output_type": "display_data"
    }
   ],
   "source": [
    "import math\n",
    "mean_values = X.mean()\n",
    "Y = X - mean_values # centered data\n",
    "print(mean_values)\n",
    "list_Y = Y.to_numpy(dtype=float) \n",
    "for small_list in list_Y:\n",
    "    for i in range(0,len(small_list)):\n",
    "        if math.isnan(small_list[i]):\n",
    "            small_list[i] = float(0)\n",
    "\n",
    "u,s,vt = np.linalg.svd(list_Y[1:,:])\n",
    "v = np.transpose(vt)\n",
    "Z = np.matmul(list_Y, v) # projected\n",
    "scatter_pc1_pc2 = plt.figure()\n",
    "plt.xlabel(\"first component\")\n",
    "plt.ylabel(\"second component\")\n",
    "\n",
    "pc1 = Z[:,0]\n",
    "pc2 = Z[:,1]\n",
    "\n",
    "plt.title(\"scatter_pc1_pc2\")\n",
    "plt.plot(pc1, pc2,'bs')\n",
    "plt.show()\n"
   ]
  },
  {
   "cell_type": "code",
   "execution_count": 44,
   "metadata": {
    "deletable": false,
    "editable": false,
    "nbgrader": {
     "cell_type": "code",
     "checksum": "a941baa1df257438b2b0eb731879af75",
     "grade": true,
     "grade_id": "cell-d5aae39f7a0ebe28",
     "locked": true,
     "points": 100,
     "schema_version": 3,
     "solution": false,
     "task": false
    }
   },
   "outputs": [
    {
     "data": {
      "text/plain": [
       "'DO NOT MODIFY THIS CELL'"
      ]
     },
     "execution_count": 44,
     "metadata": {},
     "output_type": "execute_result"
    }
   ],
   "source": [
    "\"\"\"Checks whether 1.2.2.c. output is correct\"\"\"\n",
    "\"\"\"DO NOT MODIFY THIS CELL\"\"\""
   ]
  },
  {
   "cell_type": "markdown",
   "metadata": {
    "deletable": false,
    "editable": false,
    "nbgrader": {
     "cell_type": "markdown",
     "checksum": "1ffd81892607e77851a8dbb5d1ecab8b",
     "grade": false,
     "grade_id": "cell-08aa7ceb4431d920",
     "locked": true,
     "schema_version": 3,
     "solution": false,
     "task": false
    }
   },
   "source": [
    "> d. (0.7 point) Alternatively, one could use EigenValue Decomposition, EVD, instead of SVD. What are the similarities and differences between SVD and EVD? Can both be applied in each case?"
   ]
  },
  {
   "cell_type": "markdown",
   "metadata": {
    "deletable": false,
    "nbgrader": {
     "cell_type": "markdown",
     "checksum": "a2fd8bc8f5ee54db6adff5b9eea25098",
     "grade": true,
     "grade_id": "cell-c1e3de2c79ac20f7",
     "locked": false,
     "points": 70,
     "schema_version": 3,
     "solution": true,
     "task": false
    }
   },
   "source": [
    "YOUR ANSWER HERE \n",
    "Similarities between EVD and SVD:\n",
    "1: they are both used to identify variation patterns which imply strategies of dimentionality reductions\n",
    "2: they both result into 3 matrices\n",
    "Differences between EVD and SVD:\n",
    "1: with EVD, the data is auto-centering, therefore mean centering does not need to be calculated, while in SVD you have to mean center the data.\n",
    "2: EVD can only be applied to symmetrical square matrices, while SVD can be applied to all rectangular matrices\n",
    "\n",
    "The second difference between EVD and SVD is also the reason why both techniques cannot be applied together, the matrices of application are just different.\n",
    "\n",
    "\n",
    "-------\n",
    "\n",
    "Eigendecomposition: A= PDinv(P) SVD: A= USV\n",
    "\n",
    "We cannot apply both techniques in every case where we want to analyze a matrix. Eigendecomposition requires the matrix in question to be both square and symmetrical.\n",
    "\n",
    "Similarities\n",
    "\n",
    "They both factorize a matrix into three matrices, the middle of which is a diagnonal matrix.\n",
    "\n",
    "They can both be used to find patterns of main variation in a matrix, and these patterns can inform dimenionality reductions strategies.\n",
    "\n",
    "Differences\n",
    "\n",
    "vectors in the eigendecompositionmatrix P are not necessarily orthonormal, whereas vectors in the SVD matrices are orthonormal.\n",
    "\n",
    "In eigendecomposition, the nondiagonal matrices P and inv(P) are each others inverse, whereas for SVD the nondiagonal matrices U and V may be very different from one another, and depend on the dimensions of the initial matrix.\n",
    "\n",
    "SVD can always be performed for any rectangular matrix, whereas eigendecomposition only works for some symmetrical square matrices.\n",
    "\n",
    "--------\n",
    "\n",
    "In principle, EVD uses the eigenvectors of the covariance matrix to span a space for the transformed data - so the matrix which is used to transform the data is a change-of-basis matrix to the basis of these eigenvectors. This is, at least to us, more intuitive. SVD is a generalization of eigenvalue decomposition to non-square matrices, while the the basis of the eigendecomposition is not necessarily orthogonal, the eigenbasis of the SVD is orthonormal\n",
    "\n",
    "More technically, in the case of EVD, we don't have to mean-center the data (that \"does itself\" when we are calculating the covariance matrix). The resulting transformed data will then not be mean-centered, though, unless we do that manually."
   ]
  },
  {
   "cell_type": "markdown",
   "metadata": {
    "deletable": false,
    "editable": false,
    "nbgrader": {
     "cell_type": "markdown",
     "checksum": "acb5eda34143ca8d8226f958541a6613",
     "grade": false,
     "grade_id": "cell-fb367642987d9863",
     "locked": true,
     "schema_version": 3,
     "solution": false,
     "task": false
    }
   },
   "source": [
    "PCA attempts to explain as much of the variance in data with as few PCs as possible. The variance explained by each of the PCs **m** can be calculated using the following formula: \n",
    "$$\\rho_m = 1 - \\frac{\\|{Y} - {u}_m s_{mm} {v}_m^T\\|^2_F}{\\|{Y}\\|^2_F} = \\frac{s_{mm}^2}{\\displaystyle \\sum_{m'=1}^M s^2_{m'm'}}$$\n",
    "\n",
    "Which indicates that the variation $\\rho$ for a given **m** can be calculated by dividing the squared singular value of component **m** by the sum of all squared singular values. \n",
    "> e. (1 point) Calculate the row vector $\\rho$ containing all values of $\\rho$ for all PCs **m**, save it to a variable called `rho`. Create a bar plot with the variance explained on the Y axis and the number of the PC on the X axis. Name your plot `variance_bar_plot` using `plt.figure()`"
   ]
  },
  {
   "cell_type": "code",
   "execution_count": 95,
   "metadata": {
    "deletable": false,
    "nbgrader": {
     "cell_type": "code",
     "checksum": "85c9ebc8ec5a5e2e6a57d8c952fea380",
     "grade": false,
     "grade_id": "cell-1c2732c26cc1f29f",
     "locked": false,
     "schema_version": 3,
     "solution": true,
     "task": false
    }
   },
   "outputs": [
    {
     "name": "stdout",
     "output_type": "stream",
     "text": [
      "[0.9999904701241166, 4.72139617047045e-06, 2.122961482063086e-06, 1.4140566423766724e-06, 5.790490381621776e-07, 3.016335954888044e-07, 2.774933871837299e-07, 1.0103722373902919e-07, 1.2248344106110164e-08, 7.593469970188051e-39]\n"
     ]
    },
    {
     "data": {
      "image/png": "[encoded data removed]",
      "text/plain": [
       "<Figure size 432x288 with 1 Axes>"
      ]
     },
     "metadata": {
      "needs_background": "light"
     },
     "output_type": "display_data"
    }
   ],
   "source": [
    "sum_of_sq_singular_values = 0\n",
    "for i in s:\n",
    "    sum_of_sq_singular_values = sum_of_sq_singular_values + i**2\n",
    "\n",
    "rho = []\n",
    "number_of_pcs = []\n",
    "counter = 0\n",
    "for i in s:\n",
    "    number_of_pcs.append(counter)\n",
    "    rho.append(((i**2)/sum_of_sq_singular_values))\n",
    "    counter = counter + 1\n",
    "print(rho)\n",
    "variance_bar_plot = plt.figure()\n",
    "\n",
    "# adding specification to the variances as it might look like 100% probability\n",
    "plt.yticks(np.arange(0, step=0.2))  # Set label locations.\n",
    "plt.yticks([rho[0]], ['1st PC - ' + str(rho[0])], rotation=0)  # Set text labels and properties.\n",
    "\n",
    "\n",
    "plt.xlabel(\"number of PCs\")\n",
    "plt.ylabel(\"The variance\")\n",
    "plt.title(\"Variances of each PC\")\n",
    "plt.plot(number_of_pcs, rho, 'ys')\n",
    "plt.show()"
   ]
  },
  {
   "cell_type": "code",
   "execution_count": 46,
   "metadata": {
    "deletable": false,
    "editable": false,
    "nbgrader": {
     "cell_type": "code",
     "checksum": "f57c2d81ce21852860d1670c91aa7918",
     "grade": true,
     "grade_id": "cell-7c637fe375aba981",
     "locked": true,
     "points": 100,
     "schema_version": 3,
     "solution": false,
     "task": false
    }
   },
   "outputs": [
    {
     "data": {
      "text/plain": [
       "'DO NOT MODIFY THIS CELL'"
      ]
     },
     "execution_count": 46,
     "metadata": {},
     "output_type": "execute_result"
    }
   ],
   "source": [
    "\"\"\"Checks whether 1.2.2.e. output is correct\"\"\"\n",
    "\"\"\"DO NOT MODIFY THIS CELL\"\"\""
   ]
  },
  {
   "cell_type": "markdown",
   "metadata": {
    "deletable": false,
    "editable": false,
    "nbgrader": {
     "cell_type": "markdown",
     "checksum": "faf4e942a77585a0b80588769001d615",
     "grade": false,
     "grade_id": "cell-809a389d65285655",
     "locked": true,
     "schema_version": 3,
     "solution": false,
     "task": false
    }
   },
   "source": [
    "> f. (0.5 points) How much of the variance is explained by the first three PCs? Assign your answer to a variable named `variance_first_3_pcs`. Be sure to calculate this from $\\rho$ directly! Do not multiply by 100 to gain percentages."
   ]
  },
  {
   "cell_type": "code",
   "execution_count": 47,
   "metadata": {
    "deletable": false,
    "nbgrader": {
     "cell_type": "code",
     "checksum": "ac6bd63a80bafbb531f28b45120f7be8",
     "grade": false,
     "grade_id": "cell-77a5c142f0ae477f",
     "locked": false,
     "schema_version": 3,
     "solution": true,
     "task": false
    }
   },
   "outputs": [
    {
     "name": "stdout",
     "output_type": "stream",
     "text": [
      "0.9999973144817691\n"
     ]
    }
   ],
   "source": [
    "variance_first_3_pcs = ((s[0]**2 + s[1]**2 + s[2]**2)/(sum_of_sq_singular_values))\n",
    "print(variance_first_3_pcs)"
   ]
  },
  {
   "cell_type": "code",
   "execution_count": 48,
   "metadata": {
    "deletable": false,
    "editable": false,
    "nbgrader": {
     "cell_type": "code",
     "checksum": "cdcc1576b9112e19e45471ff652b1d0c",
     "grade": true,
     "grade_id": "cell-0f436420fec4f2b3",
     "locked": true,
     "points": 50,
     "schema_version": 3,
     "solution": false,
     "task": false
    }
   },
   "outputs": [
    {
     "data": {
      "text/plain": [
       "'DO NOT MODIFY THIS CELL'"
      ]
     },
     "execution_count": 48,
     "metadata": {},
     "output_type": "execute_result"
    }
   ],
   "source": [
    "\"\"\"Checks whether 1.2.2.f. output is correct\"\"\"\n",
    "\"\"\"DO NOT MODIFY THIS CELL\"\"\""
   ]
  },
  {
   "cell_type": "markdown",
   "metadata": {
    "deletable": false,
    "editable": false,
    "nbgrader": {
     "cell_type": "markdown",
     "checksum": "ab968978b2ce4a50d32a1750d563e28d",
     "grade": false,
     "grade_id": "cell-ab8f67d134800ad4",
     "locked": true,
     "schema_version": 3,
     "solution": false,
     "task": false
    }
   },
   "source": [
    "The columns of **V** indicate the exact projection of the data onto the PCs. In a way, a PC is nothing other than a linear combination of the original attributes. \n",
    "> g. (0.5 points) Which attributes are primarily represented by the first PC? What would cause an observation to have a large negative/positive projection onto the second principal component?"
   ]
  },
  {
   "cell_type": "code",
   "execution_count": 102,
   "metadata": {
    "deletable": false,
    "nbgrader": {
     "cell_type": "code",
     "checksum": "d4ecb430d90f0ce163844dea9a156745",
     "grade": false,
     "grade_id": "cell-eb548093279a5430",
     "locked": false,
     "schema_version": 3,
     "solution": true,
     "task": false
    }
   },
   "outputs": [
    {
     "name": "stdout",
     "output_type": "stream",
     "text": [
      "[-9.99988512e-01  0.00000000e+00 -1.85493356e-04 -1.61480655e-03\n",
      " -6.08117856e-04 -2.82220249e-03 -1.89164187e-03 -8.76728730e-04\n",
      " -6.64732818e-04 -2.68513925e-03]\n"
     ]
    }
   ],
   "source": [
    "print(v[:,0])"
   ]
  },
  {
   "cell_type": "markdown",
   "metadata": {
    "deletable": false,
    "nbgrader": {
     "cell_type": "markdown",
     "checksum": "d9da0414162e7b99af56308b8f287560",
     "grade": true,
     "grade_id": "cell-45c001e1fafdb5f6",
     "locked": false,
     "points": 50,
     "schema_version": 3,
     "solution": true,
     "task": false
    }
   },
   "source": [
    "YOUR ANSWER HERE: 1st column of V grants us with the understanding how the attributes' loadings are projected on PC."
   ]
  },
  {
   "cell_type": "markdown",
   "metadata": {
    "deletable": false,
    "editable": false,
    "nbgrader": {
     "cell_type": "markdown",
     "checksum": "8d8cd03c8c04baa9ebaf0789c3346301",
     "grade": false,
     "grade_id": "cell-ea5dff1f5315c6f2",
     "locked": true,
     "schema_version": 3,
     "solution": false,
     "task": false
    }
   },
   "source": [
    "## 1.4 Similarity measures\n",
    "\n",
    "We will use a subset of the data on wild faces described by Berg in 2005 transformed to a total\n",
    "of 1000 gray scale images of size 40x40 pixels, we will attempt to find faces in the\n",
    "data base that are the most similar to a given query face. To measure similarity we\n",
    "will consider the following measures: SMC, Jaccard, Cosine, ExtendedJaccard, and\n",
    "Correlation. These measures of similarity are described in *Introduction to Data Mining*, page 73-77 and are given by\n",
    "\n",
    "\\begin{eqnarray*}\n",
    "\\textrm{SMC}({x},{y}) & = & \\frac{N_{00} + N_{11}}{N_{00} + N_{11} + N_{01} + N_{10}}\\\\\n",
    "\\textrm{Jaccard}({x},{y}) & = & \\frac{N_{00} + N_{11}}{N_{11} + N_{01} + N_{10}} \\\\\n",
    "\\textrm{Cosine}({x},{y}) & = & \\frac{{x}^T {y}}{\\|{x}\\| \\|{y}\\|} \\\\\n",
    "\\textrm{ExtendedJaccard}({x},{y}) & = & \\frac{{x}^T {y}}{\\|{x}\\|^2 + \\|{y}\\|^2 - {x}^T {y}} \\\\\n",
    "\\textrm{Correlation}({x},{y}) & = & \\frac{\\textrm{cov}({x},{y})}{\\textrm{std}({x})*  \\textrm{std}({y})}\n",
    "\\end{eqnarray*}\n",
    ", where N_{ab} denotes the number of matches where $x$ has label $a$ and $y$ has label $b$, $\\textrm{cov}({x},{y})$ denotes the covariance between ${x}$ and ${y}$, and $\\textrm{std}({x})$ denotes the standard deviation of ${x}$.\n",
    "\n",
    "Notice that the SMC and Jaccard similarity measures only are defined for binary data, i.e., data that takes values in $\\{0,1\\}$. As the data we analyze is non-binary, the script will transform the data to be binary when calculating these two measures of similarity by setting\n",
    "$$x_i = \\left\\{ \\begin{array}{ll} 0 & \\textrm{if~} x_i < \\textrm{median}({x}) \\\\\n",
    "                                1 & \\textrm{otherwise.} \\end{array} \\right.$$\n",
    "                                \n",
    "for a given sample $x$.\n",
    "                                \n",
    "### 1.4.1\n",
    "> (0.5 points) Inspect and run the simfaces function from the Toolbox. The function loads the CBCL face database, computes the similarity between a selected query image and all others, and display the query image, the 5 most similar images, and the 5 least similar images. The value of the used similarity measure is shown below each image. Try changing the query image and the similarity measure and see what happens. Which similarity measures produce similar results? Which one gives the best result? Why?\n",
    "\n",
    "> Remember to make sure we can reproduce and see all results. Do not comment out any code you used to obtain your answer!\n",
    "\n"
   ]
  },
  {
   "cell_type": "code",
   "execution_count": 98,
   "metadata": {
    "deletable": false,
    "nbgrader": {
     "cell_type": "code",
     "checksum": "b9b6a6017e6020fe1810bef5ebba4fe7",
     "grade": false,
     "grade_id": "cell-908351ba7565b72a",
     "locked": false,
     "schema_version": 3,
     "solution": true,
     "task": false
    }
   },
   "outputs": [
    {
     "data": {
      "image/png": "[encoded data removed]",
      "text/plain": [
       "<Figure size 864x576 with 11 Axes>"
      ]
     },
     "metadata": {},
     "output_type": "display_data"
    }
   ],
   "source": [
    "import sys\n",
    "from toolbox.simfaces import simfaces\n",
    "simfaces(5,'cos')\n",
    "#simfaces(5,'jac')\n",
    "#simfaces(5,'extjac')\n",
    "#simfaces(5,'smc')\n",
    "#simfaces(5,'cor')"
   ]
  },
  {
   "cell_type": "markdown",
   "metadata": {
    "deletable": false,
    "nbgrader": {
     "cell_type": "markdown",
     "checksum": "f0765df7fa698ab561834c4c4c407450",
     "grade": true,
     "grade_id": "cell-76cb1de2f0899a6b",
     "locked": false,
     "points": 50,
     "schema_version": 3,
     "solution": true,
     "task": false
    }
   },
   "source": [
    "Answer: Cosine similarity seems to be the best choice since it reports the highest similarities for the most similar images, and also the least similar ones have a high similarity. The reason for that might be that cosine similarity takes into account the angle between two vectors. After Cosine, ExtendedJaccard and SMC have also high similarity values, but it does not seem that they are the best ways to measure similarity among images since they both take into account only binary attributes, with a consequent data loss. Correlation gave the worst results, probably because these images are considered vectors, otherwise correlation might be a good measure.\n"
   ]
  },
  {
   "cell_type": "markdown",
   "metadata": {
    "deletable": false,
    "editable": false,
    "nbgrader": {
     "cell_type": "markdown",
     "checksum": "83ec26105e2e3e86aba1e9037ead702d",
     "grade": false,
     "grade_id": "cell-4ceadd33d900b6cf",
     "locked": true,
     "schema_version": 3,
     "solution": false,
     "task": false
    }
   },
   "source": [
    "\n",
    "> (0.75 points) We will investigate how scaling and translation impact the following three\n",
    "similarity measures: Cosine, ExtendedJaccard, and Correlation. Let **x** and **y** be two small vectors of the same size. Let $\\alpha$ and $\\beta$ be two constants. You can generate these randomly or set them as you see fit. Using Python, calculate the following similarity measures, and check if the statements below are correct.\n",
    "\n",
    "\\begin{eqnarray*}\n",
    "\\textrm{Cosine}(\\alpha{x},{y}) & = & \\textrm{Cosine}({x},{y}) \\\\\n",
    "\\textrm{ExtendedJaccard}(\\alpha{x},{y}) & = & \\textrm{ExtendedJaccard}({x},{y}) \\\\\n",
    "\\textrm{Correlation}(\\alpha{x},{y}) & = & \\textrm{Correlation}({x},{y}) \\\\\n",
    "\\textrm{Cosine}(\\beta + {x},{y}) & = & \\textrm{Cosine}({x},{y}) \\\\\n",
    "\\textrm{ExtendedJaccard}(\\beta + {x},{y}) & = & \\textrm{ExtendedJaccard}({x},{y}) \\\\\n",
    "\\textrm{Correlation}(\\beta + {x},{y}) & = & \\textrm{Correlation}({x},{y})\n",
    "\\end{eqnarray*}\n",
    "\n",
    "> Type `help similarity` or study `similarity.py` to learn about the function that is used to compute the similarity measures. Do not forget to also import similarity.py!\n",
    "\n",
    "> Even though a similarity measure is theoretically invariant e.g.\\ to scaling, it might not be exactly invariant numerically.\n",
    "\n",
    "> Do not forget to also provide an explanation in addition to the calculations!\n"
   ]
  },
  {
   "cell_type": "code",
   "execution_count": 99,
   "metadata": {
    "deletable": false,
    "nbgrader": {
     "cell_type": "code",
     "checksum": "606fa2df62ec0ca046bc310c06bbe1aa",
     "grade": false,
     "grade_id": "cell-8437413cbb144cb5",
     "locked": false,
     "schema_version": 3,
     "solution": true,
     "task": false
    },
    "scrolled": true
   },
   "outputs": [
    {
     "name": "stdout",
     "output_type": "stream",
     "text": [
      "First array [[53 81  8 21 93]]\n",
      "Second array [[63 98 15 56 32]]\n",
      "sim(cosine(ax,y)): 0.8525229788858885 vs \n",
      "sim(cosine(x,y)): 0.8525229788858886\n",
      "sim(ext(ax,y)): 0.021982124550473884 vs \n",
      "sim(ext(x,y)): 0.7427984522046529\n",
      "sim(cor(ax,y)): 0.43555885738661076 vs \n",
      "sim(cor(x,y)): 0.43555885738661076\n",
      "sim(cos(ax,y)): 0.9031463495130796 vs \n",
      "sim(cos(x,y)): 0.8525229788858886\n",
      "sim(ext(ax,y)): 0.5875967528789883 vs \n",
      "sim(ext(x,y)): 0.7427984522046529\n",
      "sim(cor(ax,y)): 0.43555885738661076 vs \n",
      "sim(cor(x,y)): 0.43555885738661076\n"
     ]
    }
   ],
   "source": [
    "from toolbox.similarity import similarity\n",
    "\n",
    "rand_int1 = np.random.randint(0,99,(1,5)) # random numpy array of shape (5,1)\n",
    "rand_int2 = np.random.randint(0,99,(1,5)) # random numpy array of shape (5,1)\n",
    "print(\"First array\", rand_int1)\n",
    "print(\"Second array\", rand_int2)\n",
    "alpha = np.random.randint(0,99)\n",
    "beta = np.random.randint(0,99)\n",
    "task_1_sim_1 = similarity(rand_int1*alpha, rand_int2, 'cos')\n",
    "task_1_sim_2 = similarity(rand_int1, rand_int2, 'cos')\n",
    "print(\"sim(cosine(ax,y)): \" + str(task_1_sim_1) + \" vs \\nsim(cosine(x,y)): \" + str(task_1_sim_2))\n",
    "\n",
    "task_2_sim_1 = similarity(rand_int1*alpha, rand_int2, 'ext')\n",
    "task_2_sim_2 = similarity(rand_int1, rand_int2, 'ext')\n",
    "print(\"sim(ext(ax,y)): \" + str(task_2_sim_1) + \" vs \\nsim(ext(x,y)): \" + str(task_2_sim_2))\n",
    "\n",
    "task_3_sim_1 = similarity(rand_int1*alpha, rand_int2, 'cor')\n",
    "task_3_sim_2 = similarity(rand_int1, rand_int2, 'cor')\n",
    "print(\"sim(cor(ax,y)): \" + str(task_3_sim_1) + \" vs \\nsim(cor(x,y)): \" + str(task_3_sim_2))\n",
    "\n",
    "task_4_sim_1 = similarity(rand_int1 + beta, rand_int2, 'cos')\n",
    "task_4_sim_2 = similarity(rand_int1, rand_int2, 'cos')\n",
    "print(\"sim(cos(ax,y)): \" + str(task_4_sim_1) + \" vs \\nsim(cos(x,y)): \" + str(task_4_sim_2))\n",
    "\n",
    "task_5_sim_1 = similarity(rand_int1 + beta, rand_int2, 'ext')\n",
    "task_5_sim_2 = similarity(rand_int1, rand_int2, 'ext')\n",
    "print(\"sim(ext(ax,y)): \" + str(task_5_sim_1) + \" vs \\nsim(ext(x,y)): \" + str(task_5_sim_2))\n",
    "\n",
    "task_6_sim_1 = similarity(rand_int1 + beta, rand_int2, 'cor')\n",
    "task_6_sim_2 = similarity(rand_int1, rand_int2, 'cor')\n",
    "print(\"sim(cor(ax,y)): \" + str(task_6_sim_1) + \" vs \\nsim(cor(x,y)): \" + str(task_6_sim_2))\n"
   ]
  },
  {
   "cell_type": "markdown",
   "metadata": {
    "deletable": false,
    "nbgrader": {
     "cell_type": "markdown",
     "checksum": "9900af75bb7eaf9db6deae65c79e0a75",
     "grade": true,
     "grade_id": "cell-3ed567a7c26f66a8",
     "locked": false,
     "points": 75,
     "schema_version": 3,
     "solution": true,
     "task": false
    }
   },
   "source": [
    "YOUR ANSWER HERE\n",
    "Cosine similarities are the same because Cosine is influenced only by the variations of angle, and not magnitude. ExtendedJaccard similarities are not the same because the values are binary (0,1) and any changes in the pixels of the images will have the same similarity. Correlation similarities are also pretty much the same due to the fact that there's a normalization process given by the subtraction of the means and division by the standard deviation, and this normalization is not sensitive to linear transformations."
   ]
  }
 ],
 "metadata": {
  "kernelspec": {
   "display_name": "Python 3",
   "language": "python",
   "name": "python3"
  },
  "language_info": {
   "codemirror_mode": {
    "name": "ipython",
    "version": 3
   },
   "file_extension": ".py",
   "mimetype": "text/x-python",
   "name": "python",
   "nbconvert_exporter": "python",
   "pygments_lexer": "ipython3",
   "version": "3.8.8"
  },
  "varInspector": {
   "cols": {
    "lenName": 16,
    "lenType": 16,
    "lenVar": 40
   },
   "kernels_config": {
    "python": {
     "delete_cmd_postfix": "",
     "delete_cmd_prefix": "del ",
     "library": "var_list.py",
     "varRefreshCmd": "print(var_dic_list())"
    },
    "r": {
     "delete_cmd_postfix": ") ",
     "delete_cmd_prefix": "rm(",
     "library": "var_list.r",
     "varRefreshCmd": "cat(var_dic_list()) "
    }
   },
   "position": {
    "height": "790px",
    "left": "827px",
    "right": "20px",
    "top": "64px",
    "width": "800px"
   },
   "types_to_exclude": [
    "module",
    "function",
    "builtin_function_or_method",
    "instance",
    "_Feature"
   ],
   "window_display": false
  }
 },
 "nbformat": 4,
 "nbformat_minor": 2
}
